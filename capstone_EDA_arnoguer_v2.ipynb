{
 "cells": [
  {
   "cell_type": "markdown",
   "metadata": {},
   "source": [
    "# Capstone Assignment 20.1: Initial Report and Exploratory Data Analysis (EDA)"
   ]
  },
  {
   "cell_type": "markdown",
   "metadata": {},
   "source": [
    "**Overview**: In this module, we will work on performing exploratory data analysis (EDA) to develop an initial report for our capstone project. We will use EDA to see what data can reveal beyond the formal modeling, hypothesis testing task, and data training to provide a better understanding of dataset variables and the relationships between them. We will focus in cleaning our data and use feature engineering and EDA techniques to create visualizations to make sense of your findings. Additionally, we will use one of the ML algorithms you have learned so far in the program to develop a baseline model to use as a comparison in final Caption project.  "
   ]
  },
  {
   "cell_type": "markdown",
   "metadata": {},
   "source": [
    "**Author:** Arturo Noguera"
   ]
  },
  {
   "attachments": {},
   "cell_type": "markdown",
   "metadata": {},
   "source": [
    "**Executive Summary:** Out there every customer has plenty of options for every aquisition , we need to streght our customer´s satisfaction and loyalty. At the same time we need to reduce the probability that competitors can take over our clients. Using Data Driven go to Market strategy, we will create product bundles with more attractive prices and promote synergy among different product business units to reduce production and marketing costs."
   ]
  },
  {
   "attachments": {},
   "cell_type": "markdown",
   "metadata": {},
   "source": [
    "**Rationale:** Our approach to this challengue is get to know each customer´s \"buying profile\"  and target specific customers with higher probability to buy bundles from a broader portfolio vs individual products."
   ]
  },
  {
   "cell_type": "markdown",
   "metadata": {},
   "source": [
    "**Research Question:** Predict which customers have more probability to buy items from any category belonging to Product_Line_1 , given that they bought items from any category belonging to Product_Line_2."
   ]
  },
  {
   "cell_type": "markdown",
   "metadata": {},
   "source": [
    "**Data Sources:** \n",
    "\n",
    "Sales orders received by a large IT corporation from customers located in multiple regions adquiring products from Product_Line_1 and Product_Line_2.\n",
    "\n",
    "Each product line includes Hardware and Software, has several sublines and each subline includes multiple SKUs. \n",
    "\n",
    "Customer is profield based in their Market Segment, Vertical Market, and Geographical region\n",
    "\n",
    "This Dataset includes the net price for each individual transaction, during a full calendar year."
   ]
  },
  {
   "cell_type": "markdown",
   "metadata": {},
   "source": [
    "**Methodology**:Use cleaning and  feature engineering techniques along with multiple visualizations tools to define which parts of the received information is relevant to use it in the modeling stage."
   ]
  },
  {
   "cell_type": "markdown",
   "metadata": {},
   "source": [
    "### Import inital libraries "
   ]
  },
  {
   "cell_type": "code",
   "execution_count": 1,
   "metadata": {},
   "outputs": [],
   "source": [
    "import pandas as pd\n",
    "import numpy as np\n",
    "import matplotlib.pyplot as plt\n",
    "import seaborn as sns\n",
    "import hashlib \n",
    "import warnings\n",
    "warnings.filterwarnings('ignore')\n",
    "from sklearn.model_selection import train_test_split\n",
    "from sklearn.neighbors import KNeighborsClassifier\n",
    "from sklearn.metrics import accuracy_score\n",
    "from sklearn.metrics import confusion_matrix \n",
    "from sklearn.metrics import precision_score, recall_score, f1_score\n",
    "from sklearn.metrics import classification_report\n",
    "from sklearn.model_selection import cross_val_score\n",
    "from sklearn.preprocessing import OrdinalEncoder\n",
    "from sklearn.preprocessing import StandardScaler\n",
    "from sklearn.tree import DecisionTreeClassifier\n",
    "from sklearn.ensemble import RandomForestClassifier\n",
    "from sklearn.linear_model import LogisticRegression\n",
    "from sklearn.feature_selection import chi2\n",
    "from IPython.core.interactiveshell import InteractiveShell\n",
    "InteractiveShell.ast_node_interactivity = 'all'\n",
    "\n",
    "pd.set_option('display.float_format', lambda x: '%.3f' % x)"
   ]
  },
  {
   "cell_type": "markdown",
   "metadata": {},
   "source": [
    "### Read in inital sales data "
   ]
  },
  {
   "cell_type": "code",
   "execution_count": 2,
   "metadata": {},
   "outputs": [],
   "source": [
    "df = pd.read_csv('./Data/Bookings_24_25.csv')"
   ]
  },
  {
   "cell_type": "code",
   "execution_count": 3,
   "metadata": {},
   "outputs": [
    {
     "name": "stdout",
     "output_type": "stream",
     "text": [
      "<class 'pandas.core.frame.DataFrame'>\n",
      "RangeIndex: 104813 entries, 0 to 104812\n",
      "Data columns (total 9 columns):\n",
      " #   Column           Non-Null Count  Dtype  \n",
      "---  ------           --------------  -----  \n",
      " 0   Product_Line     84320 non-null  object \n",
      " 1   Product_Subline  84320 non-null  object \n",
      " 2   SKU              84320 non-null  object \n",
      " 3   Product_Class    84320 non-null  object \n",
      " 4   Market_Segment   84320 non-null  object \n",
      " 5   Vertical_Market  84320 non-null  object \n",
      " 6   Region           84320 non-null  object \n",
      " 7   Net_Price        84320 non-null  float64\n",
      " 8   Customer_Hash    84320 non-null  object \n",
      "dtypes: float64(1), object(8)\n",
      "memory usage: 7.2+ MB\n"
     ]
    }
   ],
   "source": [
    "df.info()"
   ]
  },
  {
   "cell_type": "markdown",
   "metadata": {},
   "source": [
    "### Customer´s identity was obfuscated to keep privacy"
   ]
  },
  {
   "cell_type": "code",
   "execution_count": 4,
   "metadata": {},
   "outputs": [],
   "source": [
    "def sha256_hash(s: str):\n",
    "    return hashlib.sha256(s.encode('utf-8')).hexdigest() \n",
    "#df['Customer_Hash'] = df[df['Customer'].notnull()]['Customer'].astype(str).apply(sha256_hash)\n",
    "#df['Customer_Hash'].value_counts().head(20)\n",
    "#df.drop(columns=['Customer'], inplace=True)\n"
   ]
  },
  {
   "cell_type": "code",
   "execution_count": 5,
   "metadata": {},
   "outputs": [
    {
     "data": {
      "text/plain": [
       "0    f0d8152cf299f68973d14ad7f0847bc163550619e6c5db...\n",
       "1    f23c02ca858a0fd43e399f7e63f7b50309964b4fb0c1ea...\n",
       "2    bcef679da48c3e300b290412ea4d4056f34a35c140e06b...\n",
       "3    cad2af5704bc21e50ed0f59d4c2b6c937ff01de6b363a2...\n",
       "4    1717dd7b6a0126b8073f75f5265b9c25aa121f8537a706...\n",
       "Name: Customer_Hash, dtype: object"
      ]
     },
     "execution_count": 5,
     "metadata": {},
     "output_type": "execute_result"
    }
   ],
   "source": [
    "#df.Customer_Hash\n",
    "df['Customer_Hash'].head()\n"
   ]
  },
  {
   "cell_type": "markdown",
   "metadata": {},
   "source": [
    "### Sales Figures were scaled with a logarithmic transformation and encoded to keep the orignal sign"
   ]
  },
  {
   "cell_type": "code",
   "execution_count": 6,
   "metadata": {},
   "outputs": [
    {
     "data": {
      "text/html": [
       "<div>\n",
       "<style scoped>\n",
       "    .dataframe tbody tr th:only-of-type {\n",
       "        vertical-align: middle;\n",
       "    }\n",
       "\n",
       "    .dataframe tbody tr th {\n",
       "        vertical-align: top;\n",
       "    }\n",
       "\n",
       "    .dataframe thead th {\n",
       "        text-align: right;\n",
       "    }\n",
       "</style>\n",
       "<table border=\"1\" class=\"dataframe\">\n",
       "  <thead>\n",
       "    <tr style=\"text-align: right;\">\n",
       "      <th></th>\n",
       "      <th>Net_Price</th>\n",
       "    </tr>\n",
       "  </thead>\n",
       "  <tbody>\n",
       "    <tr>\n",
       "      <th>count</th>\n",
       "      <td>84320.000</td>\n",
       "    </tr>\n",
       "    <tr>\n",
       "      <th>mean</th>\n",
       "      <td>2.135</td>\n",
       "    </tr>\n",
       "    <tr>\n",
       "      <th>std</th>\n",
       "      <td>12.058</td>\n",
       "    </tr>\n",
       "    <tr>\n",
       "      <th>min</th>\n",
       "      <td>-3249.196</td>\n",
       "    </tr>\n",
       "    <tr>\n",
       "      <th>25%</th>\n",
       "      <td>1.270</td>\n",
       "    </tr>\n",
       "    <tr>\n",
       "      <th>50%</th>\n",
       "      <td>3.217</td>\n",
       "    </tr>\n",
       "    <tr>\n",
       "      <th>75%</th>\n",
       "      <td>4.054</td>\n",
       "    </tr>\n",
       "    <tr>\n",
       "      <th>max</th>\n",
       "      <td>7.767</td>\n",
       "    </tr>\n",
       "  </tbody>\n",
       "</table>\n",
       "</div>"
      ],
      "text/plain": [
       "       Net_Price\n",
       "count  84320.000\n",
       "mean       2.135\n",
       "std       12.058\n",
       "min    -3249.196\n",
       "25%        1.270\n",
       "50%        3.217\n",
       "75%        4.054\n",
       "max        7.767"
      ]
     },
     "execution_count": 6,
     "metadata": {},
     "output_type": "execute_result"
    }
   ],
   "source": [
    "df.describe()"
   ]
  },
  {
   "cell_type": "markdown",
   "metadata": {},
   "source": [
    "### Explore the data"
   ]
  },
  {
   "cell_type": "markdown",
   "metadata": {},
   "source": [
    "**-From the Dataframe info, we can tell that there is no missing observations, However we find several \"unknown\" entries that we will review later**"
   ]
  },
  {
   "cell_type": "code",
   "execution_count": 7,
   "metadata": {},
   "outputs": [
    {
     "data": {
      "text/html": [
       "<div>\n",
       "<style scoped>\n",
       "    .dataframe tbody tr th:only-of-type {\n",
       "        vertical-align: middle;\n",
       "    }\n",
       "\n",
       "    .dataframe tbody tr th {\n",
       "        vertical-align: top;\n",
       "    }\n",
       "\n",
       "    .dataframe thead th {\n",
       "        text-align: right;\n",
       "    }\n",
       "</style>\n",
       "<table border=\"1\" class=\"dataframe\">\n",
       "  <thead>\n",
       "    <tr style=\"text-align: right;\">\n",
       "      <th></th>\n",
       "      <th>Product_Line</th>\n",
       "      <th>Product_Subline</th>\n",
       "      <th>SKU</th>\n",
       "      <th>Product_Class</th>\n",
       "      <th>Market_Segment</th>\n",
       "      <th>Vertical_Market</th>\n",
       "      <th>Region</th>\n",
       "      <th>Net_Price</th>\n",
       "      <th>Customer_Hash</th>\n",
       "    </tr>\n",
       "  </thead>\n",
       "  <tbody>\n",
       "    <tr>\n",
       "      <th>0</th>\n",
       "      <td>Product_Line_1</td>\n",
       "      <td>Product_Subline_1</td>\n",
       "      <td>SKU_1</td>\n",
       "      <td>Software</td>\n",
       "      <td>PUBLIC SECTOR</td>\n",
       "      <td>Education- Public/Private</td>\n",
       "      <td>GEO_1</td>\n",
       "      <td>2.107</td>\n",
       "      <td>f0d8152cf299f68973d14ad7f0847bc163550619e6c5db...</td>\n",
       "    </tr>\n",
       "    <tr>\n",
       "      <th>1</th>\n",
       "      <td>Product_Line_1</td>\n",
       "      <td>Product_Subline_1</td>\n",
       "      <td>SKU_1</td>\n",
       "      <td>Software</td>\n",
       "      <td>PUBLIC SECTOR</td>\n",
       "      <td>Transportation</td>\n",
       "      <td>GEO_1</td>\n",
       "      <td>3.261</td>\n",
       "      <td>f23c02ca858a0fd43e399f7e63f7b50309964b4fb0c1ea...</td>\n",
       "    </tr>\n",
       "    <tr>\n",
       "      <th>2</th>\n",
       "      <td>Product_Line_1</td>\n",
       "      <td>Product_Subline_1</td>\n",
       "      <td>SKU_1</td>\n",
       "      <td>Software</td>\n",
       "      <td>COMMERCIAL</td>\n",
       "      <td>Retail</td>\n",
       "      <td>GEO_2</td>\n",
       "      <td>3.566</td>\n",
       "      <td>bcef679da48c3e300b290412ea4d4056f34a35c140e06b...</td>\n",
       "    </tr>\n",
       "    <tr>\n",
       "      <th>3</th>\n",
       "      <td>Product_Line_1</td>\n",
       "      <td>Product_Subline_1</td>\n",
       "      <td>SKU_1</td>\n",
       "      <td>Software</td>\n",
       "      <td>COMMERCIAL</td>\n",
       "      <td>Manufacturing</td>\n",
       "      <td>GEO_2</td>\n",
       "      <td>3.575</td>\n",
       "      <td>cad2af5704bc21e50ed0f59d4c2b6c937ff01de6b363a2...</td>\n",
       "    </tr>\n",
       "    <tr>\n",
       "      <th>4</th>\n",
       "      <td>Product_Line_1</td>\n",
       "      <td>Product_Subline_1</td>\n",
       "      <td>SKU_1</td>\n",
       "      <td>Software</td>\n",
       "      <td>ENTERPRISE</td>\n",
       "      <td>Manufacturing</td>\n",
       "      <td>GEO_2</td>\n",
       "      <td>5.081</td>\n",
       "      <td>1717dd7b6a0126b8073f75f5265b9c25aa121f8537a706...</td>\n",
       "    </tr>\n",
       "    <tr>\n",
       "      <th>5</th>\n",
       "      <td>Product_Line_1</td>\n",
       "      <td>Product_Subline_1</td>\n",
       "      <td>SKU_1</td>\n",
       "      <td>Software</td>\n",
       "      <td>COMMERCIAL</td>\n",
       "      <td>Unknown</td>\n",
       "      <td>GEO_2</td>\n",
       "      <td>0.000</td>\n",
       "      <td>6506749abb9b646e7c202ff4a6a3870697775f622aa265...</td>\n",
       "    </tr>\n",
       "    <tr>\n",
       "      <th>6</th>\n",
       "      <td>Product_Line_1</td>\n",
       "      <td>Product_Subline_1</td>\n",
       "      <td>SKU_1</td>\n",
       "      <td>Software</td>\n",
       "      <td>COMMERCIAL</td>\n",
       "      <td>Technical Services</td>\n",
       "      <td>GEO_2</td>\n",
       "      <td>2.175</td>\n",
       "      <td>babe1056a867b55164db3b0d22b9ca744fed10a53008a6...</td>\n",
       "    </tr>\n",
       "    <tr>\n",
       "      <th>7</th>\n",
       "      <td>Product_Line_1</td>\n",
       "      <td>Product_Subline_1</td>\n",
       "      <td>SKU_1</td>\n",
       "      <td>Software</td>\n",
       "      <td>COMMERCIAL</td>\n",
       "      <td>Technical Services</td>\n",
       "      <td>GEO_2</td>\n",
       "      <td>0.524</td>\n",
       "      <td>dd6c7c1ad67c9abeca6af6533bf4085222ccea41af7553...</td>\n",
       "    </tr>\n",
       "    <tr>\n",
       "      <th>8</th>\n",
       "      <td>Product_Line_1</td>\n",
       "      <td>Product_Subline_1</td>\n",
       "      <td>SKU_1</td>\n",
       "      <td>Software</td>\n",
       "      <td>COMMERCIAL</td>\n",
       "      <td>Retail</td>\n",
       "      <td>GEO_2</td>\n",
       "      <td>4.338</td>\n",
       "      <td>57610d619a520d17f15dceff0e63f30b092ce62af54689...</td>\n",
       "    </tr>\n",
       "    <tr>\n",
       "      <th>9</th>\n",
       "      <td>Product_Line_1</td>\n",
       "      <td>Product_Subline_1</td>\n",
       "      <td>SKU_1</td>\n",
       "      <td>Software</td>\n",
       "      <td>SERVICE PROVIDER</td>\n",
       "      <td>Technical Services</td>\n",
       "      <td>GEO_2</td>\n",
       "      <td>0.834</td>\n",
       "      <td>987ae02ba862ce3e3c36a819604d753d5f43d3087c6c0c...</td>\n",
       "    </tr>\n",
       "    <tr>\n",
       "      <th>10</th>\n",
       "      <td>Product_Line_1</td>\n",
       "      <td>Product_Subline_1</td>\n",
       "      <td>SKU_1</td>\n",
       "      <td>Software</td>\n",
       "      <td>SMB</td>\n",
       "      <td>Technical Services</td>\n",
       "      <td>GEO_2</td>\n",
       "      <td>1.707</td>\n",
       "      <td>17b5c026348b14cabbbfe207b13529387deb278111b01c...</td>\n",
       "    </tr>\n",
       "    <tr>\n",
       "      <th>11</th>\n",
       "      <td>Product_Line_1</td>\n",
       "      <td>Product_Subline_1</td>\n",
       "      <td>SKU_1</td>\n",
       "      <td>Software</td>\n",
       "      <td>SMB</td>\n",
       "      <td>Retail</td>\n",
       "      <td>GEO_1</td>\n",
       "      <td>0.586</td>\n",
       "      <td>0d2fff8d3d4b87b99a245c67060550cf93cd778de27113...</td>\n",
       "    </tr>\n",
       "    <tr>\n",
       "      <th>12</th>\n",
       "      <td>Product_Line_1</td>\n",
       "      <td>Product_Subline_1</td>\n",
       "      <td>SKU_1</td>\n",
       "      <td>Software</td>\n",
       "      <td>COMMERCIAL</td>\n",
       "      <td>Financial Services</td>\n",
       "      <td>GEO_1</td>\n",
       "      <td>0.000</td>\n",
       "      <td>cb7e8e6859d12305baea918b87e38e1950669646e0be81...</td>\n",
       "    </tr>\n",
       "    <tr>\n",
       "      <th>13</th>\n",
       "      <td>Product_Line_1</td>\n",
       "      <td>Product_Subline_1</td>\n",
       "      <td>SKU_1</td>\n",
       "      <td>Software</td>\n",
       "      <td>COMMERCIAL</td>\n",
       "      <td>WholeSale/Distribution</td>\n",
       "      <td>GEO_2</td>\n",
       "      <td>2.187</td>\n",
       "      <td>64a1bab986683da3a94db63b6c6913ac9328eef14772b3...</td>\n",
       "    </tr>\n",
       "    <tr>\n",
       "      <th>14</th>\n",
       "      <td>Product_Line_1</td>\n",
       "      <td>Product_Subline_1</td>\n",
       "      <td>SKU_1</td>\n",
       "      <td>Software</td>\n",
       "      <td>COMMERCIAL</td>\n",
       "      <td>WholeSale/Distribution</td>\n",
       "      <td>GEO_2</td>\n",
       "      <td>3.286</td>\n",
       "      <td>5d9b38cb11141b162035294898e93c8967af0d2c3ca3ab...</td>\n",
       "    </tr>\n",
       "    <tr>\n",
       "      <th>15</th>\n",
       "      <td>Product_Line_1</td>\n",
       "      <td>Product_Subline_1</td>\n",
       "      <td>SKU_1</td>\n",
       "      <td>Software</td>\n",
       "      <td>COMMERCIAL</td>\n",
       "      <td>Manufacturing</td>\n",
       "      <td>GEO_2</td>\n",
       "      <td>3.879</td>\n",
       "      <td>d290df6196e7203ecad8a0080b5f4b396e7b58e11a0b4d...</td>\n",
       "    </tr>\n",
       "    <tr>\n",
       "      <th>16</th>\n",
       "      <td>Product_Line_1</td>\n",
       "      <td>Product_Subline_1</td>\n",
       "      <td>SKU_1</td>\n",
       "      <td>Software</td>\n",
       "      <td>COMMERCIAL</td>\n",
       "      <td>Manufacturing</td>\n",
       "      <td>GEO_2</td>\n",
       "      <td>2.587</td>\n",
       "      <td>c0ac0aa1bd2a437279a2e55d583fa6aa470519f5b9565f...</td>\n",
       "    </tr>\n",
       "    <tr>\n",
       "      <th>17</th>\n",
       "      <td>Product_Line_1</td>\n",
       "      <td>Product_Subline_1</td>\n",
       "      <td>SKU_1</td>\n",
       "      <td>Software</td>\n",
       "      <td>PUBLIC SECTOR</td>\n",
       "      <td>Unknown</td>\n",
       "      <td>GEO_1</td>\n",
       "      <td>3.944</td>\n",
       "      <td>a63947b0b764b7e44077852bf5bfcfe910c664b84ef3f9...</td>\n",
       "    </tr>\n",
       "    <tr>\n",
       "      <th>18</th>\n",
       "      <td>Product_Line_1</td>\n",
       "      <td>Product_Subline_1</td>\n",
       "      <td>SKU_1</td>\n",
       "      <td>Software</td>\n",
       "      <td>SMB</td>\n",
       "      <td>Professional Services</td>\n",
       "      <td>GEO_3</td>\n",
       "      <td>2.768</td>\n",
       "      <td>b427aa407989fe97d356556234d3afb80c90eea9f7b011...</td>\n",
       "    </tr>\n",
       "    <tr>\n",
       "      <th>19</th>\n",
       "      <td>Product_Line_1</td>\n",
       "      <td>Product_Subline_1</td>\n",
       "      <td>SKU_1</td>\n",
       "      <td>Software</td>\n",
       "      <td>SMB</td>\n",
       "      <td>Technical Services</td>\n",
       "      <td>GEO_1</td>\n",
       "      <td>2.266</td>\n",
       "      <td>3997e31f55c3a1f0c005261e02052ff883a24834af5d8a...</td>\n",
       "    </tr>\n",
       "  </tbody>\n",
       "</table>\n",
       "</div>"
      ],
      "text/plain": [
       "      Product_Line    Product_Subline    SKU Product_Class    Market_Segment  \\\n",
       "0   Product_Line_1  Product_Subline_1  SKU_1      Software     PUBLIC SECTOR   \n",
       "1   Product_Line_1  Product_Subline_1  SKU_1      Software     PUBLIC SECTOR   \n",
       "2   Product_Line_1  Product_Subline_1  SKU_1      Software        COMMERCIAL   \n",
       "3   Product_Line_1  Product_Subline_1  SKU_1      Software        COMMERCIAL   \n",
       "4   Product_Line_1  Product_Subline_1  SKU_1      Software        ENTERPRISE   \n",
       "5   Product_Line_1  Product_Subline_1  SKU_1      Software        COMMERCIAL   \n",
       "6   Product_Line_1  Product_Subline_1  SKU_1      Software        COMMERCIAL   \n",
       "7   Product_Line_1  Product_Subline_1  SKU_1      Software        COMMERCIAL   \n",
       "8   Product_Line_1  Product_Subline_1  SKU_1      Software        COMMERCIAL   \n",
       "9   Product_Line_1  Product_Subline_1  SKU_1      Software  SERVICE PROVIDER   \n",
       "10  Product_Line_1  Product_Subline_1  SKU_1      Software               SMB   \n",
       "11  Product_Line_1  Product_Subline_1  SKU_1      Software               SMB   \n",
       "12  Product_Line_1  Product_Subline_1  SKU_1      Software        COMMERCIAL   \n",
       "13  Product_Line_1  Product_Subline_1  SKU_1      Software        COMMERCIAL   \n",
       "14  Product_Line_1  Product_Subline_1  SKU_1      Software        COMMERCIAL   \n",
       "15  Product_Line_1  Product_Subline_1  SKU_1      Software        COMMERCIAL   \n",
       "16  Product_Line_1  Product_Subline_1  SKU_1      Software        COMMERCIAL   \n",
       "17  Product_Line_1  Product_Subline_1  SKU_1      Software     PUBLIC SECTOR   \n",
       "18  Product_Line_1  Product_Subline_1  SKU_1      Software               SMB   \n",
       "19  Product_Line_1  Product_Subline_1  SKU_1      Software               SMB   \n",
       "\n",
       "              Vertical_Market Region  Net_Price  \\\n",
       "0   Education- Public/Private  GEO_1      2.107   \n",
       "1              Transportation  GEO_1      3.261   \n",
       "2                      Retail  GEO_2      3.566   \n",
       "3               Manufacturing  GEO_2      3.575   \n",
       "4               Manufacturing  GEO_2      5.081   \n",
       "5                     Unknown  GEO_2      0.000   \n",
       "6          Technical Services  GEO_2      2.175   \n",
       "7          Technical Services  GEO_2      0.524   \n",
       "8                      Retail  GEO_2      4.338   \n",
       "9          Technical Services  GEO_2      0.834   \n",
       "10         Technical Services  GEO_2      1.707   \n",
       "11                     Retail  GEO_1      0.586   \n",
       "12         Financial Services  GEO_1      0.000   \n",
       "13     WholeSale/Distribution  GEO_2      2.187   \n",
       "14     WholeSale/Distribution  GEO_2      3.286   \n",
       "15              Manufacturing  GEO_2      3.879   \n",
       "16              Manufacturing  GEO_2      2.587   \n",
       "17                    Unknown  GEO_1      3.944   \n",
       "18      Professional Services  GEO_3      2.768   \n",
       "19         Technical Services  GEO_1      2.266   \n",
       "\n",
       "                                        Customer_Hash  \n",
       "0   f0d8152cf299f68973d14ad7f0847bc163550619e6c5db...  \n",
       "1   f23c02ca858a0fd43e399f7e63f7b50309964b4fb0c1ea...  \n",
       "2   bcef679da48c3e300b290412ea4d4056f34a35c140e06b...  \n",
       "3   cad2af5704bc21e50ed0f59d4c2b6c937ff01de6b363a2...  \n",
       "4   1717dd7b6a0126b8073f75f5265b9c25aa121f8537a706...  \n",
       "5   6506749abb9b646e7c202ff4a6a3870697775f622aa265...  \n",
       "6   babe1056a867b55164db3b0d22b9ca744fed10a53008a6...  \n",
       "7   dd6c7c1ad67c9abeca6af6533bf4085222ccea41af7553...  \n",
       "8   57610d619a520d17f15dceff0e63f30b092ce62af54689...  \n",
       "9   987ae02ba862ce3e3c36a819604d753d5f43d3087c6c0c...  \n",
       "10  17b5c026348b14cabbbfe207b13529387deb278111b01c...  \n",
       "11  0d2fff8d3d4b87b99a245c67060550cf93cd778de27113...  \n",
       "12  cb7e8e6859d12305baea918b87e38e1950669646e0be81...  \n",
       "13  64a1bab986683da3a94db63b6c6913ac9328eef14772b3...  \n",
       "14  5d9b38cb11141b162035294898e93c8967af0d2c3ca3ab...  \n",
       "15  d290df6196e7203ecad8a0080b5f4b396e7b58e11a0b4d...  \n",
       "16  c0ac0aa1bd2a437279a2e55d583fa6aa470519f5b9565f...  \n",
       "17  a63947b0b764b7e44077852bf5bfcfe910c664b84ef3f9...  \n",
       "18  b427aa407989fe97d356556234d3afb80c90eea9f7b011...  \n",
       "19  3997e31f55c3a1f0c005261e02052ff883a24834af5d8a...  "
      ]
     },
     "execution_count": 7,
     "metadata": {},
     "output_type": "execute_result"
    }
   ],
   "source": [
    "df.head(20)"
   ]
  },
  {
   "cell_type": "code",
   "execution_count": 8,
   "metadata": {},
   "outputs": [
    {
     "data": {
      "text/plain": [
       "Product_Line           2\n",
       "Product_Subline        5\n",
       "SKU                  137\n",
       "Product_Class          2\n",
       "Market_Segment         6\n",
       "Vertical_Market       15\n",
       "Region                 3\n",
       "Net_Price          66415\n",
       "Customer_Hash      19529\n",
       "dtype: int64"
      ]
     },
     "execution_count": 8,
     "metadata": {},
     "output_type": "execute_result"
    }
   ],
   "source": [
    "#number of unique values in each column\n",
    "df.nunique()"
   ]
  },
  {
   "cell_type": "code",
   "execution_count": 9,
   "metadata": {},
   "outputs": [
    {
     "data": {
      "text/plain": [
       "Product_Line\n",
       "Product_Line_1    65397\n",
       "Product_Line_2    18923\n",
       "Name: count, dtype: int64"
      ]
     },
     "execution_count": 9,
     "metadata": {},
     "output_type": "execute_result"
    }
   ],
   "source": [
    "#look at value counts for Product_Line\n",
    "df[\"Product_Line\"].value_counts()"
   ]
  },
  {
   "cell_type": "code",
   "execution_count": 10,
   "metadata": {},
   "outputs": [
    {
     "data": {
      "text/plain": [
       "Product_Subline\n",
       "Product_Subline_5    21712\n",
       "Product_Subline_1    21591\n",
       "Product_Subline_2    18923\n",
       "Product_Subline_4    11342\n",
       "Product_Subline_3    10752\n",
       "Name: count, dtype: int64"
      ]
     },
     "execution_count": 10,
     "metadata": {},
     "output_type": "execute_result"
    }
   ],
   "source": [
    "#look at value counts for Product_Subline\n",
    "df[\"Product_Subline\"].value_counts()"
   ]
  },
  {
   "cell_type": "code",
   "execution_count": 11,
   "metadata": {},
   "outputs": [
    {
     "data": {
      "text/plain": [
       "SKU\n",
       "SKU_3     15872\n",
       "SKU_4      7405\n",
       "SKU_1      5012\n",
       "SKU_9      4284\n",
       "SKU_15     3748\n",
       "SKU_30     2972\n",
       "SKU_28     2957\n",
       "SKU_29     2945\n",
       "SKU_2      2850\n",
       "SKU_17     2747\n",
       "Name: count, dtype: int64"
      ]
     },
     "execution_count": 11,
     "metadata": {},
     "output_type": "execute_result"
    }
   ],
   "source": [
    "#look at value counts for SKU\n",
    "df['SKU'].value_counts().head(10)"
   ]
  },
  {
   "cell_type": "code",
   "execution_count": 12,
   "metadata": {},
   "outputs": [
    {
     "data": {
      "text/plain": [
       "Product_Class\n",
       "Software    70786\n",
       "Hardware    13534\n",
       "Name: count, dtype: int64"
      ]
     },
     "execution_count": 12,
     "metadata": {},
     "output_type": "execute_result"
    }
   ],
   "source": [
    "#look at value counts for Product_Class\n",
    "df['Product_Class'].value_counts()"
   ]
  },
  {
   "cell_type": "code",
   "execution_count": 13,
   "metadata": {},
   "outputs": [
    {
     "data": {
      "text/plain": [
       "Market_Segment\n",
       "SMB                 26944\n",
       "COMMERCIAL          25608\n",
       "PUBLIC SECTOR       16239\n",
       "ENTERPRISE           8488\n",
       "SERVICE PROVIDER     3668\n",
       "OTHER                3373\n",
       "Name: count, dtype: int64"
      ]
     },
     "execution_count": 13,
     "metadata": {},
     "output_type": "execute_result"
    }
   ],
   "source": [
    "#look at value counts for Customer Market_Segment\n",
    "df[\"Market_Segment\"].value_counts()"
   ]
  },
  {
   "cell_type": "code",
   "execution_count": 14,
   "metadata": {},
   "outputs": [
    {
     "data": {
      "text/plain": [
       "Vertical_Market\n",
       "Professional Services           11949\n",
       "Financial Services              10355\n",
       "Manufacturing                    9728\n",
       "Government                       8421\n",
       "Unknown                          7897\n",
       "Technical Services               6360\n",
       "Retail                           5464\n",
       "Education- Public/Private        4922\n",
       "WholeSale/Distribution           4357\n",
       "Health Care                      4108\n",
       "Service Provider                 2889\n",
       "Media/Entertainment              2520\n",
       "Transportation                   2284\n",
       "Energy/Utilities                 2259\n",
       "Hospitality/Hotels & Leisure      807\n",
       "Name: count, dtype: int64"
      ]
     },
     "execution_count": 14,
     "metadata": {},
     "output_type": "execute_result"
    }
   ],
   "source": [
    "#look at value counts for Customer Vertical_Market\n",
    "df[\"Vertical_Market\"].value_counts()"
   ]
  },
  {
   "cell_type": "code",
   "execution_count": 15,
   "metadata": {},
   "outputs": [
    {
     "data": {
      "text/plain": [
       "Region\n",
       "GEO_2    46482\n",
       "GEO_1    25296\n",
       "GEO_3    12542\n",
       "Name: count, dtype: int64"
      ]
     },
     "execution_count": 15,
     "metadata": {},
     "output_type": "execute_result"
    }
   ],
   "source": [
    "#look at value counts for Customer geography\n",
    "df[\"Region\"].value_counts()"
   ]
  },
  {
   "cell_type": "code",
   "execution_count": 16,
   "metadata": {},
   "outputs": [
    {
     "data": {
      "text/plain": [
       "count   84320.000\n",
       "mean        2.135\n",
       "std        12.058\n",
       "min     -3249.196\n",
       "25%         1.270\n",
       "50%         3.217\n",
       "75%         4.054\n",
       "max         7.767\n",
       "Name: Net_Price, dtype: float64"
      ]
     },
     "execution_count": 16,
     "metadata": {},
     "output_type": "execute_result"
    }
   ],
   "source": [
    "#look at Net  Prices Stats\n",
    "df['Net_Price'].describe()"
   ]
  },
  {
   "cell_type": "code",
   "execution_count": 17,
   "metadata": {},
   "outputs": [
    {
     "data": {
      "text/plain": [
       "19024"
      ]
     },
     "execution_count": 17,
     "metadata": {},
     "output_type": "execute_result"
    }
   ],
   "source": [
    "(df['Net_Price'] <=0).sum()"
   ]
  },
  {
   "cell_type": "code",
   "execution_count": 18,
   "metadata": {},
   "outputs": [],
   "source": [
    "#Before starting the Visualization section, we researched about the negative or Zero Net_Price\n",
    "#Negative Prices are related to debookings or 'Product Returns'  by unsatisfied Customers\n",
    "#Zero Net Prices are propomotions or 'gifts' to special customers\n",
    "#We will get rid off these observations before any Data Evaluation and ignore its efect on the business objective.\n",
    "df=df.drop(df[df['Net_Price']<=0].index)"
   ]
  },
  {
   "cell_type": "code",
   "execution_count": 19,
   "metadata": {},
   "outputs": [
    {
     "data": {
      "text/plain": [
       "0"
      ]
     },
     "execution_count": 19,
     "metadata": {},
     "output_type": "execute_result"
    }
   ],
   "source": [
    "(df['Net_Price'] <=0).sum()"
   ]
  },
  {
   "cell_type": "code",
   "execution_count": 20,
   "metadata": {},
   "outputs": [
    {
     "data": {
      "text/plain": [
       "1005"
      ]
     },
     "execution_count": 20,
     "metadata": {},
     "output_type": "execute_result"
    },
    {
     "data": {
      "text/plain": [
       "17044"
      ]
     },
     "execution_count": 20,
     "metadata": {},
     "output_type": "execute_result"
    }
   ],
   "source": [
    "# Look for 'unknown' Customers and Total Unique Customers\n",
    "(df['Customer_Hash']=='UNKNOWN').sum()\n",
    "df['Customer_Hash'].nunique()"
   ]
  },
  {
   "cell_type": "markdown",
   "metadata": {},
   "source": [
    "### Visualizations from received Data"
   ]
  },
  {
   "cell_type": "code",
   "execution_count": 21,
   "metadata": {},
   "outputs": [],
   "source": [
    "PL_counts=df['Product_Line'].value_counts().to_numpy()\n",
    "PL_labels=df['Product_Line'].value_counts().index.to_numpy()\n",
    "\n",
    "PS_counts=df['Product_Subline'].value_counts().to_numpy()\n",
    "PS_labels=df['Product_Subline'].value_counts().index.to_numpy()\n"
   ]
  },
  {
   "cell_type": "code",
   "execution_count": 22,
   "metadata": {},
   "outputs": [
    {
     "data": {
      "image/png": "[encoded data removed]",
      "text/plain": [
       "<Figure size 640x480 with 1 Axes>"
      ]
     },
     "metadata": {},
     "output_type": "display_data"
    }
   ],
   "source": [
    "fig, ax = plt.subplots()\n",
    "plt.title('Sales orders per Product Line and Subline Distribution')\n",
    "ax.pie(PL_counts, labels=PL_labels, labeldistance=0.9, autopct='%1.1f%%', pctdistance=0.8, startangle=90,wedgeprops={'linewidth': 1, 'edgecolor': 'white'}, radius=1.2)\n",
    "ax.pie(PS_counts, labels=PS_labels, labeldistance=0.7,autopct='%1.1f%%',pctdistance=0.5, startangle=90,wedgeprops={'linewidth': 1, 'edgecolor': 'white'}, textprops={'fontsize': 7},radius=0.8)\n",
    "center_circle = plt.Circle((0, 0), 0.3, color='white')\n",
    "fig.gca().add_artist(center_circle)\n",
    "ax.axis('equal') \n",
    "plt.show();"
   ]
  },
  {
   "cell_type": "code",
   "execution_count": 23,
   "metadata": {},
   "outputs": [
    {
     "data": {
      "image/png": "[encoded data removed]",
      "text/plain": [
       "<Figure size 640x480 with 1 Axes>"
      ]
     },
     "metadata": {},
     "output_type": "display_data"
    }
   ],
   "source": [
    " #Sales Orders per SKU Distribution \n",
    "\n",
    "fig=df['SKU'].value_counts().head(20).plot(kind='bar')\n",
    "fig.set_xlabel('SKU')\n",
    "fig.set_ylabel('Sales Orders')\n",
    "fig.set_title('Sales Orders per SKU Distribution');\n"
   ]
  },
  {
   "cell_type": "code",
   "execution_count": null,
   "metadata": {},
   "outputs": [],
   "source": []
  },
  {
   "cell_type": "code",
   "execution_count": 24,
   "metadata": {},
   "outputs": [
    {
     "data": {
      "image/png": "[encoded data removed]",
      "text/plain": [
       "<Figure size 640x480 with 1 Axes>"
      ]
     },
     "metadata": {},
     "output_type": "display_data"
    }
   ],
   "source": [
    "fig=df['Product_Class'].value_counts().plot(kind='barh',rot=0)\n",
    "fig.set_xlabel('Sales Orders')\n",
    "fig.set_ylabel('Product_Class')\n",
    "fig.set_title('Sales Orders per Product Class');"
   ]
  },
  {
   "cell_type": "code",
   "execution_count": 25,
   "metadata": {},
   "outputs": [
    {
     "data": {
      "image/png": "[encoded data removed]",
      "text/plain": [
       "<Figure size 640x480 with 1 Axes>"
      ]
     },
     "metadata": {},
     "output_type": "display_data"
    }
   ],
   "source": [
    "fig = sns.histplot(df, x='Product_Class', hue='Product_Subline',stat='percent',multiple='stack')\n",
    "fig.set_xlabel('Product Class')\n",
    "fig.set_ylabel('Product Subline Percent')\n",
    "fig.legend(title='Product Subline',labels=PS_labels)\n",
    "fig.set_title('Product Class vs Subline Distribution Sales Order');\n"
   ]
  },
  {
   "cell_type": "code",
   "execution_count": 26,
   "metadata": {},
   "outputs": [
    {
     "data": {
      "image/png": "[encoded data removed]",
      "text/plain": [
       "<Figure size 640x480 with 1 Axes>"
      ]
     },
     "metadata": {},
     "output_type": "display_data"
    }
   ],
   "source": [
    "fig = sns.histplot(df, x='Product_Class', hue='Product_Line',stat='percent',multiple='stack')\n",
    "fig.set_xlabel('Product Class')\n",
    "fig.set_ylabel('Product Line Percent')\n",
    "fig.legend(title='Product Line',labels=PL_labels)\n",
    "fig.set_title('Product Class vs Line Distribution Sales Orders');\n"
   ]
  },
  {
   "cell_type": "code",
   "execution_count": 27,
   "metadata": {},
   "outputs": [
    {
     "data": {
      "image/png": "[encoded data removed]",
      "text/plain": [
       "<Figure size 640x480 with 1 Axes>"
      ]
     },
     "metadata": {},
     "output_type": "display_data"
    }
   ],
   "source": [
    "#get bar chart of bookings by product line and Class \n",
    "df.groupby(['Product_Line','Product_Class']).agg(\n",
    "     bookings = ('Net_Price','sum'),\n",
    "     ).sort_values(by=\"bookings\", axis=0, ascending=False).head(20).plot(kind='barh',title='Bookings Aggregate by Product line and Class');"
   ]
  },
  {
   "cell_type": "code",
   "execution_count": 28,
   "metadata": {},
   "outputs": [
    {
     "data": {
      "image/png": "[encoded data removed]",
      "text/plain": [
       "<Figure size 640x480 with 1 Axes>"
      ]
     },
     "metadata": {},
     "output_type": "display_data"
    }
   ],
   "source": [
    "#get bar chart of bookings by Product Line and Subline\n",
    "df.groupby(['Product_Line','Product_Subline']).agg(\n",
    "     bookings = ('Net_Price','sum'),\n",
    "     ).sort_values(by=\"bookings\", axis=0, ascending=False).head(20).plot(kind='barh',colormap=\"cool\",title='Bookings Aggregate by product line and Subline');"
   ]
  },
  {
   "cell_type": "code",
   "execution_count": 29,
   "metadata": {},
   "outputs": [
    {
     "data": {
      "image/png": "[encoded data removed]",
      "text/plain": [
       "<Figure size 640x480 with 1 Axes>"
      ]
     },
     "metadata": {},
     "output_type": "display_data"
    }
   ],
   "source": [
    "#get pie chart of bookings by Region and Product Class\n",
    "\n",
    "df_group=df.groupby(['Region','Product_Class']).agg(\n",
    "     bookings = ('Net_Price','sum'),\n",
    "     ).sort_values(by=\"bookings\", axis=0, ascending=False).head(20)\n",
    "\n",
    "PL_labels=df_group.index\n",
    "PL_counts=df_group['bookings'].to_numpy()\n",
    "fig, ax = plt.subplots()\n",
    "\n",
    "plt.title('Bookings Aggregate per Region and Product Class')\n",
    "ax.pie(PL_counts, labels=PL_labels, labeldistance=1.0, autopct='%1.1f%%', pctdistance=0.8, startangle=45,wedgeprops={'linewidth': 1, 'edgecolor': 'white'},textprops={'fontsize': 7}, radius=0.9);\n"
   ]
  },
  {
   "cell_type": "code",
   "execution_count": 30,
   "metadata": {},
   "outputs": [
    {
     "data": {
      "image/png": "[encoded data removed]",
      "text/plain": [
       "<Figure size 640x480 with 1 Axes>"
      ]
     },
     "metadata": {},
     "output_type": "display_data"
    }
   ],
   "source": [
    "df.groupby(['Market_Segment']).agg(\n",
    "     bookings = ('Net_Price','sum'),\n",
    "     ).sort_values(by=\"bookings\", axis=0, ascending=False).head(20).plot(kind='bar',colormap=\"gist_rainbow\",title='Bookings Aggregate by Market Segment');"
   ]
  },
  {
   "cell_type": "code",
   "execution_count": 31,
   "metadata": {},
   "outputs": [
    {
     "data": {
      "text/plain": [
       "<Axes: title={'center': 'Bookings Aggregate by Vertical Market'}, ylabel='Vertical_Market'>"
      ]
     },
     "execution_count": 31,
     "metadata": {},
     "output_type": "execute_result"
    },
    {
     "data": {
      "image/png": "[encoded data removed]",
      "text/plain": [
       "<Figure size 640x480 with 1 Axes>"
      ]
     },
     "metadata": {},
     "output_type": "display_data"
    }
   ],
   "source": [
    "df.groupby(['Vertical_Market']).agg(\n",
    "     bookings = ('Net_Price','sum'),\n",
    "     ).sort_values(by=\"bookings\", axis=0, ascending=True).head(30).plot(kind='barh', title='Bookings Aggregate by Vertical Market')"
   ]
  },
  {
   "cell_type": "code",
   "execution_count": 32,
   "metadata": {},
   "outputs": [
    {
     "data": {
      "image/png": "[encoded data removed]",
      "text/plain": [
       "<Figure size 500x500 with 1 Axes>"
      ]
     },
     "metadata": {},
     "output_type": "display_data"
    }
   ],
   "source": [
    "sns.displot(df['Net_Price']).set(title='Net Price Distribution', xlabel='Net Price', ylabel='Sales Orders');"
   ]
  },
  {
   "cell_type": "code",
   "execution_count": 33,
   "metadata": {},
   "outputs": [
    {
     "data": {
      "image/png": "[encoded data removed]",
      "text/plain": [
       "<Figure size 800x800 with 1 Axes>"
      ]
     },
     "metadata": {},
     "output_type": "display_data"
    }
   ],
   "source": [
    "#box plot to see distribution of booking per region\n",
    "sns.catplot(data=df, kind='box', x='Market_Segment', y='Net_Price', height=8)\n",
    "plt.suptitle('Net Price Ranges vs Market Segment Box Plot', y=1.02);"
   ]
  },
  {
   "cell_type": "code",
   "execution_count": 34,
   "metadata": {},
   "outputs": [
    {
     "data": {
      "image/png": "[encoded data removed]",
      "text/plain": [
       "<Figure size 600x600 with 1 Axes>"
      ]
     },
     "metadata": {},
     "output_type": "display_data"
    }
   ],
   "source": [
    "#box plot to see distribution of booking per region\n",
    "sns.catplot(data=df, kind='box', x='Region', y='Net_Price', height=6)\n",
    "plt.suptitle('Net Price Ranges vs Region Box Plot', y=1.02);"
   ]
  },
  {
   "cell_type": "code",
   "execution_count": 35,
   "metadata": {},
   "outputs": [
    {
     "data": {
      "image/png": "[encoded data removed]",
      "text/plain": [
       "<Figure size 600x600 with 3 Axes>"
      ]
     },
     "metadata": {},
     "output_type": "display_data"
    }
   ],
   "source": [
    "fig = sns.jointplot(df[['Region','Net_Price']], x='Region', y='Net_Price', kind='hist')\n",
    "fig.set_axis_labels('Region','Net Price')\n",
    "plt.suptitle('Net Price Histogram vs Region', y=1.02);"
   ]
  },
  {
   "cell_type": "code",
   "execution_count": 36,
   "metadata": {},
   "outputs": [
    {
     "data": {
      "image/png": "[encoded data removed]",
      "text/plain": [
       "<Figure size 640x480 with 1 Axes>"
      ]
     },
     "metadata": {},
     "output_type": "display_data"
    }
   ],
   "source": [
    "Best_SKUs=df['SKU'].value_counts().head(20).index.to_list()\n",
    "df_query = df.query('SKU ==@Best_SKUs')\n",
    "\n",
    "ax = df_query.plot.scatter(x=\"SKU\", y=\"Net_Price\", color=\"DarkBlue\", label=\"Net_Price\",rot=90)\n",
    "plt.suptitle('Net Prices Booked vs Most Sold SKUs ', y=1.02);\n"
   ]
  },
  {
   "cell_type": "markdown",
   "metadata": {},
   "source": [
    "### Data Cleaning and Preparation"
   ]
  },
  {
   "cell_type": "code",
   "execution_count": 37,
   "metadata": {},
   "outputs": [],
   "source": [
    "#start to drop the rows with negative and zero bookings\n",
    "#we did this step ahead to avoid the impact of negative numbers in the visualization phase.\n",
    "\n",
    "#df=df.drop(df[df['Net_Price']<=0].index)"
   ]
  },
  {
   "cell_type": "code",
   "execution_count": 38,
   "metadata": {},
   "outputs": [
    {
     "data": {
      "text/html": [
       "<div>\n",
       "<style scoped>\n",
       "    .dataframe tbody tr th:only-of-type {\n",
       "        vertical-align: middle;\n",
       "    }\n",
       "\n",
       "    .dataframe tbody tr th {\n",
       "        vertical-align: top;\n",
       "    }\n",
       "\n",
       "    .dataframe thead th {\n",
       "        text-align: right;\n",
       "    }\n",
       "</style>\n",
       "<table border=\"1\" class=\"dataframe\">\n",
       "  <thead>\n",
       "    <tr style=\"text-align: right;\">\n",
       "      <th></th>\n",
       "      <th>Product_Line</th>\n",
       "      <th>Product_Subline</th>\n",
       "      <th>SKU</th>\n",
       "      <th>Product_Class</th>\n",
       "      <th>Market_Segment</th>\n",
       "      <th>Vertical_Market</th>\n",
       "      <th>Region</th>\n",
       "      <th>Net_Price</th>\n",
       "      <th>Customer_Hash</th>\n",
       "    </tr>\n",
       "  </thead>\n",
       "  <tbody>\n",
       "    <tr>\n",
       "      <th>0</th>\n",
       "      <td>Product_Line_1</td>\n",
       "      <td>Product_Subline_1</td>\n",
       "      <td>SKU_1</td>\n",
       "      <td>Software</td>\n",
       "      <td>PUBLIC SECTOR</td>\n",
       "      <td>Education- Public/Private</td>\n",
       "      <td>GEO_1</td>\n",
       "      <td>2.107</td>\n",
       "      <td>f0d8152cf299f68973d14ad7f0847bc163550619e6c5db...</td>\n",
       "    </tr>\n",
       "    <tr>\n",
       "      <th>1</th>\n",
       "      <td>Product_Line_1</td>\n",
       "      <td>Product_Subline_1</td>\n",
       "      <td>SKU_1</td>\n",
       "      <td>Software</td>\n",
       "      <td>PUBLIC SECTOR</td>\n",
       "      <td>Transportation</td>\n",
       "      <td>GEO_1</td>\n",
       "      <td>3.261</td>\n",
       "      <td>f23c02ca858a0fd43e399f7e63f7b50309964b4fb0c1ea...</td>\n",
       "    </tr>\n",
       "    <tr>\n",
       "      <th>2</th>\n",
       "      <td>Product_Line_1</td>\n",
       "      <td>Product_Subline_1</td>\n",
       "      <td>SKU_1</td>\n",
       "      <td>Software</td>\n",
       "      <td>COMMERCIAL</td>\n",
       "      <td>Retail</td>\n",
       "      <td>GEO_2</td>\n",
       "      <td>3.566</td>\n",
       "      <td>bcef679da48c3e300b290412ea4d4056f34a35c140e06b...</td>\n",
       "    </tr>\n",
       "    <tr>\n",
       "      <th>3</th>\n",
       "      <td>Product_Line_1</td>\n",
       "      <td>Product_Subline_1</td>\n",
       "      <td>SKU_1</td>\n",
       "      <td>Software</td>\n",
       "      <td>COMMERCIAL</td>\n",
       "      <td>Manufacturing</td>\n",
       "      <td>GEO_2</td>\n",
       "      <td>3.575</td>\n",
       "      <td>cad2af5704bc21e50ed0f59d4c2b6c937ff01de6b363a2...</td>\n",
       "    </tr>\n",
       "    <tr>\n",
       "      <th>4</th>\n",
       "      <td>Product_Line_1</td>\n",
       "      <td>Product_Subline_1</td>\n",
       "      <td>SKU_1</td>\n",
       "      <td>Software</td>\n",
       "      <td>ENTERPRISE</td>\n",
       "      <td>Manufacturing</td>\n",
       "      <td>GEO_2</td>\n",
       "      <td>5.081</td>\n",
       "      <td>1717dd7b6a0126b8073f75f5265b9c25aa121f8537a706...</td>\n",
       "    </tr>\n",
       "  </tbody>\n",
       "</table>\n",
       "</div>"
      ],
      "text/plain": [
       "     Product_Line    Product_Subline    SKU Product_Class Market_Segment  \\\n",
       "0  Product_Line_1  Product_Subline_1  SKU_1      Software  PUBLIC SECTOR   \n",
       "1  Product_Line_1  Product_Subline_1  SKU_1      Software  PUBLIC SECTOR   \n",
       "2  Product_Line_1  Product_Subline_1  SKU_1      Software     COMMERCIAL   \n",
       "3  Product_Line_1  Product_Subline_1  SKU_1      Software     COMMERCIAL   \n",
       "4  Product_Line_1  Product_Subline_1  SKU_1      Software     ENTERPRISE   \n",
       "\n",
       "             Vertical_Market Region  Net_Price  \\\n",
       "0  Education- Public/Private  GEO_1      2.107   \n",
       "1             Transportation  GEO_1      3.261   \n",
       "2                     Retail  GEO_2      3.566   \n",
       "3              Manufacturing  GEO_2      3.575   \n",
       "4              Manufacturing  GEO_2      5.081   \n",
       "\n",
       "                                       Customer_Hash  \n",
       "0  f0d8152cf299f68973d14ad7f0847bc163550619e6c5db...  \n",
       "1  f23c02ca858a0fd43e399f7e63f7b50309964b4fb0c1ea...  \n",
       "2  bcef679da48c3e300b290412ea4d4056f34a35c140e06b...  \n",
       "3  cad2af5704bc21e50ed0f59d4c2b6c937ff01de6b363a2...  \n",
       "4  1717dd7b6a0126b8073f75f5265b9c25aa121f8537a706...  "
      ]
     },
     "execution_count": 38,
     "metadata": {},
     "output_type": "execute_result"
    },
    {
     "name": "stdout",
     "output_type": "stream",
     "text": [
      "<class 'pandas.core.frame.DataFrame'>\n",
      "Index: 85789 entries, 0 to 104812\n",
      "Data columns (total 9 columns):\n",
      " #   Column           Non-Null Count  Dtype  \n",
      "---  ------           --------------  -----  \n",
      " 0   Product_Line     65296 non-null  object \n",
      " 1   Product_Subline  65296 non-null  object \n",
      " 2   SKU              65296 non-null  object \n",
      " 3   Product_Class    65296 non-null  object \n",
      " 4   Market_Segment   65296 non-null  object \n",
      " 5   Vertical_Market  65296 non-null  object \n",
      " 6   Region           65296 non-null  object \n",
      " 7   Net_Price        65296 non-null  float64\n",
      " 8   Customer_Hash    65296 non-null  object \n",
      "dtypes: float64(1), object(8)\n",
      "memory usage: 6.5+ MB\n"
     ]
    }
   ],
   "source": [
    "# Review our base line again\n",
    "df.head()\n",
    "pd.set_option('display.float_format', lambda x: '%.3f' % x)\n",
    "df.info()"
   ]
  },
  {
   "cell_type": "code",
   "execution_count": 39,
   "metadata": {},
   "outputs": [],
   "source": [
    "#removing SKU from the data since there are 140 different products in our portfolio and only a few of them have significative count.\n",
    "df = df.drop(['SKU'],axis=1)"
   ]
  },
  {
   "cell_type": "code",
   "execution_count": 40,
   "metadata": {},
   "outputs": [],
   "source": [
    "#Customer ID is unique for each customer and is not relevant for the business purpose, however we can not drop it by now, \n",
    "#as it will be used to reorganize our data corpus.\n",
    "\n",
    "#However it is safe to delete 'UNKNOWN' now, because these will converge in a single \"customer\" when we consolidate Sales Orders per customer\n",
    "\n",
    "Unk_index = df[ (df['Customer_Hash'] == 'UNKNOWN')].index\n",
    "df.drop(Unk_index , inplace=True)"
   ]
  },
  {
   "cell_type": "code",
   "execution_count": 41,
   "metadata": {},
   "outputs": [
    {
     "data": {
      "text/plain": [
       "Net_Price\n",
       "False    64291\n",
       "True     20493\n",
       "Name: count, dtype: int64"
      ]
     },
     "execution_count": 41,
     "metadata": {},
     "output_type": "execute_result"
    }
   ],
   "source": [
    "#look for null values in bookings column\n",
    "pd.isna(df[\"Net_Price\"]).value_counts()"
   ]
  },
  {
   "cell_type": "code",
   "execution_count": 42,
   "metadata": {},
   "outputs": [
    {
     "data": {
      "text/plain": [
       "count   64291.000\n",
       "mean        3.551\n",
       "std         1.081\n",
       "min         0.000\n",
       "25%         2.914\n",
       "50%         3.603\n",
       "75%         4.274\n",
       "max         7.767\n",
       "Name: Net_Price, dtype: float64"
      ]
     },
     "execution_count": 42,
     "metadata": {},
     "output_type": "execute_result"
    },
    {
     "data": {
      "text/plain": [
       "Net_Price\n",
       "4.000    23116\n",
       "3.000    19715\n",
       "5.000     9982\n",
       "2.000     7426\n",
       "6.000     1608\n",
       "1.000     1517\n",
       "0.000      847\n",
       "7.000       78\n",
       "8.000        2\n",
       "Name: count, dtype: int64"
      ]
     },
     "execution_count": 42,
     "metadata": {},
     "output_type": "execute_result"
    }
   ],
   "source": [
    "#Remember this feature was scaled using a Logarithmic transformer before having access to the raw Data and we have removed Net Prices <=0\n",
    "df['Net_Price'].describe()\n",
    "(df['Net_Price']).round(0).value_counts()"
   ]
  },
  {
   "cell_type": "code",
   "execution_count": 43,
   "metadata": {},
   "outputs": [
    {
     "data": {
      "text/html": [
       "<div>\n",
       "<style scoped>\n",
       "    .dataframe tbody tr th:only-of-type {\n",
       "        vertical-align: middle;\n",
       "    }\n",
       "\n",
       "    .dataframe tbody tr th {\n",
       "        vertical-align: top;\n",
       "    }\n",
       "\n",
       "    .dataframe thead tr th {\n",
       "        text-align: left;\n",
       "    }\n",
       "\n",
       "    .dataframe thead tr:last-of-type th {\n",
       "        text-align: right;\n",
       "    }\n",
       "</style>\n",
       "<table border=\"1\" class=\"dataframe\">\n",
       "  <thead>\n",
       "    <tr>\n",
       "      <th></th>\n",
       "      <th colspan=\"3\" halign=\"left\">Net_Price</th>\n",
       "    </tr>\n",
       "    <tr>\n",
       "      <th></th>\n",
       "      <th>mean</th>\n",
       "      <th>min</th>\n",
       "      <th>max</th>\n",
       "    </tr>\n",
       "    <tr>\n",
       "      <th>Product_Subline</th>\n",
       "      <th></th>\n",
       "      <th></th>\n",
       "      <th></th>\n",
       "    </tr>\n",
       "  </thead>\n",
       "  <tbody>\n",
       "    <tr>\n",
       "      <th>Product_Subline_1</th>\n",
       "      <td>3.122</td>\n",
       "      <td>0.000</td>\n",
       "      <td>7.415</td>\n",
       "    </tr>\n",
       "    <tr>\n",
       "      <th>Product_Subline_2</th>\n",
       "      <td>3.909</td>\n",
       "      <td>0.000</td>\n",
       "      <td>7.300</td>\n",
       "    </tr>\n",
       "    <tr>\n",
       "      <th>Product_Subline_3</th>\n",
       "      <td>3.811</td>\n",
       "      <td>0.000</td>\n",
       "      <td>7.523</td>\n",
       "    </tr>\n",
       "    <tr>\n",
       "      <th>Product_Subline_4</th>\n",
       "      <td>3.268</td>\n",
       "      <td>0.000</td>\n",
       "      <td>7.492</td>\n",
       "    </tr>\n",
       "    <tr>\n",
       "      <th>Product_Subline_5</th>\n",
       "      <td>3.670</td>\n",
       "      <td>0.000</td>\n",
       "      <td>7.767</td>\n",
       "    </tr>\n",
       "  </tbody>\n",
       "</table>\n",
       "</div>"
      ],
      "text/plain": [
       "                  Net_Price            \n",
       "                       mean   min   max\n",
       "Product_Subline                        \n",
       "Product_Subline_1     3.122 0.000 7.415\n",
       "Product_Subline_2     3.909 0.000 7.300\n",
       "Product_Subline_3     3.811 0.000 7.523\n",
       "Product_Subline_4     3.268 0.000 7.492\n",
       "Product_Subline_5     3.670 0.000 7.767"
      ]
     },
     "execution_count": 43,
     "metadata": {},
     "output_type": "execute_result"
    },
    {
     "data": {
      "text/html": [
       "<div>\n",
       "<style scoped>\n",
       "    .dataframe tbody tr th:only-of-type {\n",
       "        vertical-align: middle;\n",
       "    }\n",
       "\n",
       "    .dataframe tbody tr th {\n",
       "        vertical-align: top;\n",
       "    }\n",
       "\n",
       "    .dataframe thead tr th {\n",
       "        text-align: left;\n",
       "    }\n",
       "\n",
       "    .dataframe thead tr:last-of-type th {\n",
       "        text-align: right;\n",
       "    }\n",
       "</style>\n",
       "<table border=\"1\" class=\"dataframe\">\n",
       "  <thead>\n",
       "    <tr>\n",
       "      <th></th>\n",
       "      <th colspan=\"3\" halign=\"left\">Net_Price</th>\n",
       "    </tr>\n",
       "    <tr>\n",
       "      <th></th>\n",
       "      <th>mean</th>\n",
       "      <th>min</th>\n",
       "      <th>max</th>\n",
       "    </tr>\n",
       "    <tr>\n",
       "      <th>Market_Segment</th>\n",
       "      <th></th>\n",
       "      <th></th>\n",
       "      <th></th>\n",
       "    </tr>\n",
       "  </thead>\n",
       "  <tbody>\n",
       "    <tr>\n",
       "      <th>COMMERCIAL</th>\n",
       "      <td>3.631</td>\n",
       "      <td>0.000</td>\n",
       "      <td>7.121</td>\n",
       "    </tr>\n",
       "    <tr>\n",
       "      <th>ENTERPRISE</th>\n",
       "      <td>3.618</td>\n",
       "      <td>0.000</td>\n",
       "      <td>7.767</td>\n",
       "    </tr>\n",
       "    <tr>\n",
       "      <th>OTHER</th>\n",
       "      <td>2.875</td>\n",
       "      <td>0.000</td>\n",
       "      <td>5.320</td>\n",
       "    </tr>\n",
       "    <tr>\n",
       "      <th>PUBLIC SECTOR</th>\n",
       "      <td>3.631</td>\n",
       "      <td>0.000</td>\n",
       "      <td>7.486</td>\n",
       "    </tr>\n",
       "    <tr>\n",
       "      <th>SERVICE PROVIDER</th>\n",
       "      <td>3.369</td>\n",
       "      <td>0.000</td>\n",
       "      <td>6.954</td>\n",
       "    </tr>\n",
       "    <tr>\n",
       "      <th>SMB</th>\n",
       "      <td>3.453</td>\n",
       "      <td>0.000</td>\n",
       "      <td>6.411</td>\n",
       "    </tr>\n",
       "  </tbody>\n",
       "</table>\n",
       "</div>"
      ],
      "text/plain": [
       "                 Net_Price            \n",
       "                      mean   min   max\n",
       "Market_Segment                        \n",
       "COMMERCIAL           3.631 0.000 7.121\n",
       "ENTERPRISE           3.618 0.000 7.767\n",
       "OTHER                2.875 0.000 5.320\n",
       "PUBLIC SECTOR        3.631 0.000 7.486\n",
       "SERVICE PROVIDER     3.369 0.000 6.954\n",
       "SMB                  3.453 0.000 6.411"
      ]
     },
     "execution_count": 43,
     "metadata": {},
     "output_type": "execute_result"
    }
   ],
   "source": [
    "#look at distribution of bookings by business sub entity\n",
    "df.groupby('Product_Subline').agg({'Net_Price': ['mean', 'min', 'max']})\n",
    "df.groupby('Market_Segment').agg({'Net_Price': ['mean', 'min', 'max']})"
   ]
  },
  {
   "cell_type": "markdown",
   "metadata": {},
   "source": [
    "**All Sales Orders seem to be smothly distributem among Product_sublines and Market Segments**"
   ]
  },
  {
   "cell_type": "code",
   "execution_count": 44,
   "metadata": {},
   "outputs": [
    {
     "data": {
      "text/html": [
       "<div>\n",
       "<style scoped>\n",
       "    .dataframe tbody tr th:only-of-type {\n",
       "        vertical-align: middle;\n",
       "    }\n",
       "\n",
       "    .dataframe tbody tr th {\n",
       "        vertical-align: top;\n",
       "    }\n",
       "\n",
       "    .dataframe thead th {\n",
       "        text-align: right;\n",
       "    }\n",
       "</style>\n",
       "<table border=\"1\" class=\"dataframe\">\n",
       "  <thead>\n",
       "    <tr style=\"text-align: right;\">\n",
       "      <th></th>\n",
       "      <th>Product_Line</th>\n",
       "      <th>Product_Subline</th>\n",
       "      <th>Product_Class</th>\n",
       "      <th>Market_Segment</th>\n",
       "      <th>Vertical_Market</th>\n",
       "      <th>Region</th>\n",
       "      <th>Net_Price</th>\n",
       "      <th>Customer_Hash</th>\n",
       "    </tr>\n",
       "  </thead>\n",
       "  <tbody>\n",
       "    <tr>\n",
       "      <th>0</th>\n",
       "      <td>Product_Line_1</td>\n",
       "      <td>48304</td>\n",
       "      <td>48304</td>\n",
       "      <td>48304</td>\n",
       "      <td>48304</td>\n",
       "      <td>48304</td>\n",
       "      <td>48304</td>\n",
       "      <td>48304</td>\n",
       "    </tr>\n",
       "    <tr>\n",
       "      <th>1</th>\n",
       "      <td>Product_Line_2</td>\n",
       "      <td>15987</td>\n",
       "      <td>15987</td>\n",
       "      <td>15987</td>\n",
       "      <td>15987</td>\n",
       "      <td>15987</td>\n",
       "      <td>15987</td>\n",
       "      <td>15987</td>\n",
       "    </tr>\n",
       "  </tbody>\n",
       "</table>\n",
       "</div>"
      ],
      "text/plain": [
       "     Product_Line  Product_Subline  Product_Class  Market_Segment  \\\n",
       "0  Product_Line_1            48304          48304           48304   \n",
       "1  Product_Line_2            15987          15987           15987   \n",
       "\n",
       "   Vertical_Market  Region  Net_Price  Customer_Hash  \n",
       "0            48304   48304      48304          48304  \n",
       "1            15987   15987      15987          15987  "
      ]
     },
     "execution_count": 44,
     "metadata": {},
     "output_type": "execute_result"
    }
   ],
   "source": [
    "df.groupby('Product_Line').count().reset_index()"
   ]
  },
  {
   "cell_type": "code",
   "execution_count": 45,
   "metadata": {},
   "outputs": [
    {
     "data": {
      "text/plain": [
       "Product_Subline\n",
       "Product_Subline_2    15987\n",
       "Name: count, dtype: int64"
      ]
     },
     "execution_count": 45,
     "metadata": {},
     "output_type": "execute_result"
    }
   ],
   "source": [
    "#Let us focus in Sales Order from \"Product Line 2\"\n",
    "df.query('Product_Line==\"Product_Line_2\"')['Product_Subline'].value_counts()\n",
    "#All these Sales orders belong to a single Subline \"Product_Subline_2\"\n",
    "#so we can find all Customers buying \"Product Line 2\" filtering by \"Product_Subline_2\""
   ]
  },
  {
   "cell_type": "code",
   "execution_count": 46,
   "metadata": {},
   "outputs": [
    {
     "data": {
      "text/html": [
       "<div>\n",
       "<style scoped>\n",
       "    .dataframe tbody tr th:only-of-type {\n",
       "        vertical-align: middle;\n",
       "    }\n",
       "\n",
       "    .dataframe tbody tr th {\n",
       "        vertical-align: top;\n",
       "    }\n",
       "\n",
       "    .dataframe thead th {\n",
       "        text-align: right;\n",
       "    }\n",
       "</style>\n",
       "<table border=\"1\" class=\"dataframe\">\n",
       "  <thead>\n",
       "    <tr style=\"text-align: right;\">\n",
       "      <th></th>\n",
       "      <th>Net_Price</th>\n",
       "    </tr>\n",
       "  </thead>\n",
       "  <tbody>\n",
       "    <tr>\n",
       "      <th>count</th>\n",
       "      <td>15987.000</td>\n",
       "    </tr>\n",
       "    <tr>\n",
       "      <th>mean</th>\n",
       "      <td>3.909</td>\n",
       "    </tr>\n",
       "    <tr>\n",
       "      <th>std</th>\n",
       "      <td>0.774</td>\n",
       "    </tr>\n",
       "    <tr>\n",
       "      <th>min</th>\n",
       "      <td>0.000</td>\n",
       "    </tr>\n",
       "    <tr>\n",
       "      <th>25%</th>\n",
       "      <td>3.365</td>\n",
       "    </tr>\n",
       "    <tr>\n",
       "      <th>50%</th>\n",
       "      <td>3.873</td>\n",
       "    </tr>\n",
       "    <tr>\n",
       "      <th>75%</th>\n",
       "      <td>4.409</td>\n",
       "    </tr>\n",
       "    <tr>\n",
       "      <th>max</th>\n",
       "      <td>7.300</td>\n",
       "    </tr>\n",
       "  </tbody>\n",
       "</table>\n",
       "</div>"
      ],
      "text/plain": [
       "       Net_Price\n",
       "count  15987.000\n",
       "mean       3.909\n",
       "std        0.774\n",
       "min        0.000\n",
       "25%        3.365\n",
       "50%        3.873\n",
       "75%        4.409\n",
       "max        7.300"
      ]
     },
     "execution_count": 46,
     "metadata": {},
     "output_type": "execute_result"
    }
   ],
   "source": [
    "#Look at Stats from Product_Subline_2\n",
    "df.query('Product_Subline==\"Product_Subline_2\"').describe()"
   ]
  },
  {
   "cell_type": "markdown",
   "metadata": {},
   "source": [
    "All Customers buying \"Product Line 1\", are distributed between \"Product_Sublines\" 1,3,4 and 5, as shown below"
   ]
  },
  {
   "cell_type": "code",
   "execution_count": 47,
   "metadata": {},
   "outputs": [
    {
     "data": {
      "text/plain": [
       "Product_Subline\n",
       "Product_Subline_1    17587\n",
       "Product_Subline_5    13958\n",
       "Product_Subline_3     9088\n",
       "Product_Subline_4     7671\n",
       "Name: count, dtype: int64"
      ]
     },
     "execution_count": 47,
     "metadata": {},
     "output_type": "execute_result"
    },
    {
     "data": {
      "text/html": [
       "<div>\n",
       "<style scoped>\n",
       "    .dataframe tbody tr th:only-of-type {\n",
       "        vertical-align: middle;\n",
       "    }\n",
       "\n",
       "    .dataframe tbody tr th {\n",
       "        vertical-align: top;\n",
       "    }\n",
       "\n",
       "    .dataframe thead th {\n",
       "        text-align: right;\n",
       "    }\n",
       "</style>\n",
       "<table border=\"1\" class=\"dataframe\">\n",
       "  <thead>\n",
       "    <tr style=\"text-align: right;\">\n",
       "      <th></th>\n",
       "      <th>Net_Price</th>\n",
       "    </tr>\n",
       "  </thead>\n",
       "  <tbody>\n",
       "    <tr>\n",
       "      <th>count</th>\n",
       "      <td>48304.000</td>\n",
       "    </tr>\n",
       "    <tr>\n",
       "      <th>mean</th>\n",
       "      <td>3.433</td>\n",
       "    </tr>\n",
       "    <tr>\n",
       "      <th>std</th>\n",
       "      <td>1.140</td>\n",
       "    </tr>\n",
       "    <tr>\n",
       "      <th>min</th>\n",
       "      <td>0.000</td>\n",
       "    </tr>\n",
       "    <tr>\n",
       "      <th>25%</th>\n",
       "      <td>2.732</td>\n",
       "    </tr>\n",
       "    <tr>\n",
       "      <th>50%</th>\n",
       "      <td>3.480</td>\n",
       "    </tr>\n",
       "    <tr>\n",
       "      <th>75%</th>\n",
       "      <td>4.209</td>\n",
       "    </tr>\n",
       "    <tr>\n",
       "      <th>max</th>\n",
       "      <td>7.767</td>\n",
       "    </tr>\n",
       "  </tbody>\n",
       "</table>\n",
       "</div>"
      ],
      "text/plain": [
       "       Net_Price\n",
       "count  48304.000\n",
       "mean       3.433\n",
       "std        1.140\n",
       "min        0.000\n",
       "25%        2.732\n",
       "50%        3.480\n",
       "75%        4.209\n",
       "max        7.767"
      ]
     },
     "execution_count": 47,
     "metadata": {},
     "output_type": "execute_result"
    }
   ],
   "source": [
    "df.query('Product_Line==\"Product_Line_1\"')['Product_Subline'].value_counts()\n",
    "df.query('Product_Line==\"Product_Line_1\"').describe()"
   ]
  },
  {
   "cell_type": "code",
   "execution_count": 48,
   "metadata": {},
   "outputs": [
    {
     "data": {
      "text/html": [
       "<div>\n",
       "<style scoped>\n",
       "    .dataframe tbody tr th:only-of-type {\n",
       "        vertical-align: middle;\n",
       "    }\n",
       "\n",
       "    .dataframe tbody tr th {\n",
       "        vertical-align: top;\n",
       "    }\n",
       "\n",
       "    .dataframe thead th {\n",
       "        text-align: right;\n",
       "    }\n",
       "</style>\n",
       "<table border=\"1\" class=\"dataframe\">\n",
       "  <thead>\n",
       "    <tr style=\"text-align: right;\">\n",
       "      <th></th>\n",
       "      <th>Net_Price</th>\n",
       "    </tr>\n",
       "  </thead>\n",
       "  <tbody>\n",
       "    <tr>\n",
       "      <th>count</th>\n",
       "      <td>48304.000</td>\n",
       "    </tr>\n",
       "    <tr>\n",
       "      <th>mean</th>\n",
       "      <td>3.433</td>\n",
       "    </tr>\n",
       "    <tr>\n",
       "      <th>std</th>\n",
       "      <td>1.140</td>\n",
       "    </tr>\n",
       "    <tr>\n",
       "      <th>min</th>\n",
       "      <td>0.000</td>\n",
       "    </tr>\n",
       "    <tr>\n",
       "      <th>25%</th>\n",
       "      <td>2.732</td>\n",
       "    </tr>\n",
       "    <tr>\n",
       "      <th>50%</th>\n",
       "      <td>3.480</td>\n",
       "    </tr>\n",
       "    <tr>\n",
       "      <th>75%</th>\n",
       "      <td>4.209</td>\n",
       "    </tr>\n",
       "    <tr>\n",
       "      <th>max</th>\n",
       "      <td>7.767</td>\n",
       "    </tr>\n",
       "  </tbody>\n",
       "</table>\n",
       "</div>"
      ],
      "text/plain": [
       "       Net_Price\n",
       "count  48304.000\n",
       "mean       3.433\n",
       "std        1.140\n",
       "min        0.000\n",
       "25%        2.732\n",
       "50%        3.480\n",
       "75%        4.209\n",
       "max        7.767"
      ]
     },
     "execution_count": 48,
     "metadata": {},
     "output_type": "execute_result"
    },
    {
     "data": {
      "text/html": [
       "<div>\n",
       "<style scoped>\n",
       "    .dataframe tbody tr th:only-of-type {\n",
       "        vertical-align: middle;\n",
       "    }\n",
       "\n",
       "    .dataframe tbody tr th {\n",
       "        vertical-align: top;\n",
       "    }\n",
       "\n",
       "    .dataframe thead th {\n",
       "        text-align: right;\n",
       "    }\n",
       "</style>\n",
       "<table border=\"1\" class=\"dataframe\">\n",
       "  <thead>\n",
       "    <tr style=\"text-align: right;\">\n",
       "      <th></th>\n",
       "      <th>Net_Price</th>\n",
       "    </tr>\n",
       "  </thead>\n",
       "  <tbody>\n",
       "    <tr>\n",
       "      <th>count</th>\n",
       "      <td>15987.000</td>\n",
       "    </tr>\n",
       "    <tr>\n",
       "      <th>mean</th>\n",
       "      <td>3.909</td>\n",
       "    </tr>\n",
       "    <tr>\n",
       "      <th>std</th>\n",
       "      <td>0.774</td>\n",
       "    </tr>\n",
       "    <tr>\n",
       "      <th>min</th>\n",
       "      <td>0.000</td>\n",
       "    </tr>\n",
       "    <tr>\n",
       "      <th>25%</th>\n",
       "      <td>3.365</td>\n",
       "    </tr>\n",
       "    <tr>\n",
       "      <th>50%</th>\n",
       "      <td>3.873</td>\n",
       "    </tr>\n",
       "    <tr>\n",
       "      <th>75%</th>\n",
       "      <td>4.409</td>\n",
       "    </tr>\n",
       "    <tr>\n",
       "      <th>max</th>\n",
       "      <td>7.300</td>\n",
       "    </tr>\n",
       "  </tbody>\n",
       "</table>\n",
       "</div>"
      ],
      "text/plain": [
       "       Net_Price\n",
       "count  15987.000\n",
       "mean       3.909\n",
       "std        0.774\n",
       "min        0.000\n",
       "25%        3.365\n",
       "50%        3.873\n",
       "75%        4.409\n",
       "max        7.300"
      ]
     },
     "execution_count": 48,
     "metadata": {},
     "output_type": "execute_result"
    }
   ],
   "source": [
    "df.query('Product_Line==\"Product_Line_1\"').describe()\n",
    "df.query('Product_Subline==\"Product_Subline_2\"').describe()"
   ]
  },
  {
   "cell_type": "code",
   "execution_count": 49,
   "metadata": {
    "scrolled": true
   },
   "outputs": [
    {
     "data": {
      "text/plain": [
       "(21342, 5)"
      ]
     },
     "execution_count": 49,
     "metadata": {},
     "output_type": "execute_result"
    },
    {
     "name": "stdout",
     "output_type": "stream",
     "text": [
      "<class 'pandas.core.frame.DataFrame'>\n",
      "RangeIndex: 21342 entries, 0 to 21341\n",
      "Data columns (total 5 columns):\n",
      " #   Column           Non-Null Count  Dtype  \n",
      "---  ------           --------------  -----  \n",
      " 0   Customer_Hash    21342 non-null  object \n",
      " 1   Market_Segment   21342 non-null  object \n",
      " 2   Vertical_Market  21342 non-null  object \n",
      " 3   Region           21342 non-null  object \n",
      " 4   Net_Price        21342 non-null  float64\n",
      "dtypes: float64(1), object(4)\n",
      "memory usage: 833.8+ KB\n"
     ]
    },
    {
     "data": {
      "text/plain": [
       "0   4.408\n",
       "1   3.197\n",
       "2   4.481\n",
       "3   1.513\n",
       "4   3.768\n",
       "Name: Net_Price, dtype: float64"
      ]
     },
     "execution_count": 49,
     "metadata": {},
     "output_type": "execute_result"
    },
    {
     "data": {
      "text/plain": [
       "Customer_Hash\n",
       "23759997b3c59884dc4c0ff5320d6301b0e7f63bf0f6483a7b54d7d43bc5ccd1    151\n",
       "f67b0fd572d3859230f230dc8414485519bfd55cea1e52ff5159d33eed4bbfb5     28\n",
       "dafafcc0517f1b5a45883e29e029288470fe42c5279773e3351c6a50f5ceb888     28\n",
       "beca103a13e5a9b8b427ada2a12e5222dc61080d75ec0d995c72efae047c396c     28\n",
       "b092e347f8c27e0ecfc19de24f3ed467343cb52e5f3b8adedd8438f892908f4b     27\n",
       "Name: count, dtype: int64"
      ]
     },
     "execution_count": 49,
     "metadata": {},
     "output_type": "execute_result"
    }
   ],
   "source": [
    "#new data frame to use to build along with table - did not keep columns that are not needed (Product Classification, Business Sub Entity, Business Entity)\n",
    "df_new = df.groupby(['Customer_Hash','Market_Segment','Vertical_Market','Region'])['Net_Price'].mean().to_frame().reset_index()\n",
    "df_new.shape\n",
    "df_new.info()\n",
    "df_new['Net_Price'].head()\n",
    "df_new['Customer_Hash'].value_counts().head()"
   ]
  },
  {
   "cell_type": "code",
   "execution_count": 50,
   "metadata": {},
   "outputs": [],
   "source": [
    "#We will remove Customers with high numbers of sales orders, because these are most likeky resellers, \n",
    "#that buy large amounts of products to sell them to retail customers, and these would introduce noise in the modeling"
   ]
  },
  {
   "cell_type": "code",
   "execution_count": 51,
   "metadata": {},
   "outputs": [
    {
     "name": "stdout",
     "output_type": "stream",
     "text": [
      "<class 'pandas.core.frame.DataFrame'>\n",
      "Index: 17043 entries, 16074 to 16135\n",
      "Data columns (total 5 columns):\n",
      " #   Column           Non-Null Count  Dtype  \n",
      "---  ------           --------------  -----  \n",
      " 0   Customer_Hash    17043 non-null  object \n",
      " 1   Market_Segment   17043 non-null  object \n",
      " 2   Vertical_Market  17043 non-null  object \n",
      " 3   Region           17043 non-null  object \n",
      " 4   Net_Price        17043 non-null  float64\n",
      "dtypes: float64(1), object(4)\n",
      "memory usage: 798.9+ KB\n"
     ]
    }
   ],
   "source": [
    "df_new=df_new.sort_values(by=['Net_Price'],ascending=False ).drop_duplicates(subset=['Customer_Hash'], keep='last')\n",
    "df_new.info()"
   ]
  },
  {
   "cell_type": "code",
   "execution_count": 52,
   "metadata": {},
   "outputs": [
    {
     "data": {
      "text/plain": [
       "1"
      ]
     },
     "execution_count": 52,
     "metadata": {},
     "output_type": "execute_result"
    }
   ],
   "source": [
    "df_new['Customer_Hash'].value_counts().max()\n"
   ]
  },
  {
   "cell_type": "markdown",
   "metadata": {},
   "source": [
    "After we aggregated  the mean Net_Price, some Customers with lots of Sales Orders show large Net_Prices, we will now drop the outliers."
   ]
  },
  {
   "cell_type": "code",
   "execution_count": 53,
   "metadata": {},
   "outputs": [
    {
     "data": {
      "text/plain": [
       "Net_Price\n",
       "4.000    6580\n",
       "3.000    5835\n",
       "5.000    1920\n",
       "2.000    1816\n",
       "1.000     393\n",
       "0.000     287\n",
       "6.000     207\n",
       "7.000       5\n",
       "Name: count, dtype: int64"
      ]
     },
     "execution_count": 53,
     "metadata": {},
     "output_type": "execute_result"
    }
   ],
   "source": [
    "(df_new['Net_Price']).round(0).value_counts()"
   ]
  },
  {
   "cell_type": "code",
   "execution_count": 54,
   "metadata": {},
   "outputs": [
    {
     "data": {
      "text/html": [
       "<div>\n",
       "<style scoped>\n",
       "    .dataframe tbody tr th:only-of-type {\n",
       "        vertical-align: middle;\n",
       "    }\n",
       "\n",
       "    .dataframe tbody tr th {\n",
       "        vertical-align: top;\n",
       "    }\n",
       "\n",
       "    .dataframe thead th {\n",
       "        text-align: right;\n",
       "    }\n",
       "</style>\n",
       "<table border=\"1\" class=\"dataframe\">\n",
       "  <thead>\n",
       "    <tr style=\"text-align: right;\">\n",
       "      <th></th>\n",
       "      <th>Net_Price</th>\n",
       "    </tr>\n",
       "  </thead>\n",
       "  <tbody>\n",
       "    <tr>\n",
       "      <th>count</th>\n",
       "      <td>16495.000</td>\n",
       "    </tr>\n",
       "    <tr>\n",
       "      <th>mean</th>\n",
       "      <td>3.519</td>\n",
       "    </tr>\n",
       "    <tr>\n",
       "      <th>std</th>\n",
       "      <td>0.863</td>\n",
       "    </tr>\n",
       "    <tr>\n",
       "      <th>min</th>\n",
       "      <td>1.157</td>\n",
       "    </tr>\n",
       "    <tr>\n",
       "      <th>25%</th>\n",
       "      <td>2.965</td>\n",
       "    </tr>\n",
       "    <tr>\n",
       "      <th>50%</th>\n",
       "      <td>3.549</td>\n",
       "    </tr>\n",
       "    <tr>\n",
       "      <th>75%</th>\n",
       "      <td>4.099</td>\n",
       "    </tr>\n",
       "    <tr>\n",
       "      <th>max</th>\n",
       "      <td>5.850</td>\n",
       "    </tr>\n",
       "  </tbody>\n",
       "</table>\n",
       "</div>"
      ],
      "text/plain": [
       "       Net_Price\n",
       "count  16495.000\n",
       "mean       3.519\n",
       "std        0.863\n",
       "min        1.157\n",
       "25%        2.965\n",
       "50%        3.549\n",
       "75%        4.099\n",
       "max        5.850"
      ]
     },
     "execution_count": 54,
     "metadata": {},
     "output_type": "execute_result"
    },
    {
     "data": {
      "text/plain": [
       "Net_Price\n",
       "4.000    6580\n",
       "3.000    5835\n",
       "5.000    1920\n",
       "2.000    1816\n",
       "1.000     215\n",
       "6.000     129\n",
       "Name: count, dtype: int64"
      ]
     },
     "execution_count": 54,
     "metadata": {},
     "output_type": "execute_result"
    }
   ],
   "source": [
    "Q1 = df_new['Net_Price'].quantile(0.25)\n",
    "Q3 = df_new['Net_Price'].quantile(0.75)\n",
    "IQR = Q3 - Q1\n",
    "lower_limit = Q1 - 1.5 * IQR\n",
    "upper_limit = Q3 + 1.5 * IQR\n",
    "df_clean = df_new.query('(Net_Price >= @lower_limit) & (Net_Price <= @upper_limit)')\n",
    "df_clean.describe()\n",
    "(df_clean['Net_Price']).round(0).value_counts()"
   ]
  },
  {
   "cell_type": "code",
   "execution_count": 55,
   "metadata": {},
   "outputs": [
    {
     "data": {
      "image/png": "[encoded data removed]",
      "text/plain": [
       "<Figure size 500x500 with 1 Axes>"
      ]
     },
     "metadata": {},
     "output_type": "display_data"
    }
   ],
   "source": [
    "sns.displot(df_clean['Net_Price']).set(title='Mean Net Price Distribution', xlabel='Net Price', ylabel='Sales Orders');"
   ]
  },
  {
   "cell_type": "code",
   "execution_count": 56,
   "metadata": {},
   "outputs": [
    {
     "name": "stdout",
     "output_type": "stream",
     "text": [
      "<class 'pandas.core.frame.DataFrame'>\n",
      "Index: 16495 entries, 20007 to 20852\n",
      "Data columns (total 5 columns):\n",
      " #   Column           Non-Null Count  Dtype  \n",
      "---  ------           --------------  -----  \n",
      " 0   Customer_Hash    16495 non-null  object \n",
      " 1   Market_Segment   16495 non-null  object \n",
      " 2   Vertical_Market  16495 non-null  object \n",
      " 3   Region           16495 non-null  object \n",
      " 4   Net_Price        16495 non-null  float64\n",
      "dtypes: float64(1), object(4)\n",
      "memory usage: 773.2+ KB\n"
     ]
    }
   ],
   "source": [
    "df_clean.info()"
   ]
  },
  {
   "cell_type": "markdown",
   "metadata": {},
   "source": [
    "**Build pivot table to combine by customer so we can get our target variable (customers that buy Subline1 and one Subline2 products)**"
   ]
  },
  {
   "cell_type": "code",
   "execution_count": 57,
   "metadata": {},
   "outputs": [],
   "source": [
    "#going to use business sub entity to derive target variable\n",
    "table = pd.pivot_table(df, values='Net_Price', index=['Customer_Hash'],\n",
    "                      columns=['Product_Subline'], aggfunc=\"mean\")"
   ]
  },
  {
   "cell_type": "code",
   "execution_count": 58,
   "metadata": {},
   "outputs": [
    {
     "name": "stdout",
     "output_type": "stream",
     "text": [
      "<class 'pandas.core.frame.DataFrame'>\n",
      "Index: 17043 entries, 000128276c19c8d7dbac91ad5bf54639f1d3e8f308f89f9b3c58852914733301 to fffe40b62cee28596d1051876cc4eebf74571235ef02eae5f02b799d5c138b26\n",
      "Data columns (total 5 columns):\n",
      " #   Column             Non-Null Count  Dtype  \n",
      "---  ------             --------------  -----  \n",
      " 0   Product_Subline_1  9076 non-null   float64\n",
      " 1   Product_Subline_2  6841 non-null   float64\n",
      " 2   Product_Subline_3  5730 non-null   float64\n",
      " 3   Product_Subline_4  3794 non-null   float64\n",
      " 4   Product_Subline_5  5656 non-null   float64\n",
      "dtypes: float64(5)\n",
      "memory usage: 798.9+ KB\n"
     ]
    }
   ],
   "source": [
    "table.info()"
   ]
  },
  {
   "cell_type": "code",
   "execution_count": 59,
   "metadata": {},
   "outputs": [
    {
     "data": {
      "text/html": [
       "<div>\n",
       "<style scoped>\n",
       "    .dataframe tbody tr th:only-of-type {\n",
       "        vertical-align: middle;\n",
       "    }\n",
       "\n",
       "    .dataframe tbody tr th {\n",
       "        vertical-align: top;\n",
       "    }\n",
       "\n",
       "    .dataframe thead th {\n",
       "        text-align: right;\n",
       "    }\n",
       "</style>\n",
       "<table border=\"1\" class=\"dataframe\">\n",
       "  <thead>\n",
       "    <tr style=\"text-align: right;\">\n",
       "      <th>Product_Subline</th>\n",
       "      <th>Product_Subline_1</th>\n",
       "      <th>Product_Subline_2</th>\n",
       "      <th>Product_Subline_3</th>\n",
       "      <th>Product_Subline_4</th>\n",
       "      <th>Product_Subline_5</th>\n",
       "    </tr>\n",
       "    <tr>\n",
       "      <th>Customer_Hash</th>\n",
       "      <th></th>\n",
       "      <th></th>\n",
       "      <th></th>\n",
       "      <th></th>\n",
       "      <th></th>\n",
       "    </tr>\n",
       "  </thead>\n",
       "  <tbody>\n",
       "    <tr>\n",
       "      <th>000128276c19c8d7dbac91ad5bf54639f1d3e8f308f89f9b3c58852914733301</th>\n",
       "      <td>NaN</td>\n",
       "      <td>NaN</td>\n",
       "      <td>NaN</td>\n",
       "      <td>4.408</td>\n",
       "      <td>NaN</td>\n",
       "    </tr>\n",
       "    <tr>\n",
       "      <th>0005e7feb93c679c28814eacda65f194a5f0d949c0374b0d4bda8d7ceecdcbae</th>\n",
       "      <td>2.317</td>\n",
       "      <td>3.360</td>\n",
       "      <td>3.750</td>\n",
       "      <td>NaN</td>\n",
       "      <td>NaN</td>\n",
       "    </tr>\n",
       "    <tr>\n",
       "      <th>000637d7e3c727be6490413f3a28e857d16f54be469fcac56a80879a75dbe74d</th>\n",
       "      <td>4.481</td>\n",
       "      <td>NaN</td>\n",
       "      <td>NaN</td>\n",
       "      <td>NaN</td>\n",
       "      <td>NaN</td>\n",
       "    </tr>\n",
       "    <tr>\n",
       "      <th>00083d3d1c01000088b30d1ae5d912c2c8bc83ca74b0ef5b31043ba7db7ddabb</th>\n",
       "      <td>1.513</td>\n",
       "      <td>NaN</td>\n",
       "      <td>NaN</td>\n",
       "      <td>NaN</td>\n",
       "      <td>NaN</td>\n",
       "    </tr>\n",
       "    <tr>\n",
       "      <th>000cd92bf5b7d818165970b409aa183ebeb1d0270c871519324cc37a4dd96dc3</th>\n",
       "      <td>3.289</td>\n",
       "      <td>4.247</td>\n",
       "      <td>NaN</td>\n",
       "      <td>NaN</td>\n",
       "      <td>NaN</td>\n",
       "    </tr>\n",
       "  </tbody>\n",
       "</table>\n",
       "</div>"
      ],
      "text/plain": [
       "Product_Subline                                     Product_Subline_1  \\\n",
       "Customer_Hash                                                           \n",
       "000128276c19c8d7dbac91ad5bf54639f1d3e8f308f89f9...                NaN   \n",
       "0005e7feb93c679c28814eacda65f194a5f0d949c0374b0...              2.317   \n",
       "000637d7e3c727be6490413f3a28e857d16f54be469fcac...              4.481   \n",
       "00083d3d1c01000088b30d1ae5d912c2c8bc83ca74b0ef5...              1.513   \n",
       "000cd92bf5b7d818165970b409aa183ebeb1d0270c87151...              3.289   \n",
       "\n",
       "Product_Subline                                     Product_Subline_2  \\\n",
       "Customer_Hash                                                           \n",
       "000128276c19c8d7dbac91ad5bf54639f1d3e8f308f89f9...                NaN   \n",
       "0005e7feb93c679c28814eacda65f194a5f0d949c0374b0...              3.360   \n",
       "000637d7e3c727be6490413f3a28e857d16f54be469fcac...                NaN   \n",
       "00083d3d1c01000088b30d1ae5d912c2c8bc83ca74b0ef5...                NaN   \n",
       "000cd92bf5b7d818165970b409aa183ebeb1d0270c87151...              4.247   \n",
       "\n",
       "Product_Subline                                     Product_Subline_3  \\\n",
       "Customer_Hash                                                           \n",
       "000128276c19c8d7dbac91ad5bf54639f1d3e8f308f89f9...                NaN   \n",
       "0005e7feb93c679c28814eacda65f194a5f0d949c0374b0...              3.750   \n",
       "000637d7e3c727be6490413f3a28e857d16f54be469fcac...                NaN   \n",
       "00083d3d1c01000088b30d1ae5d912c2c8bc83ca74b0ef5...                NaN   \n",
       "000cd92bf5b7d818165970b409aa183ebeb1d0270c87151...                NaN   \n",
       "\n",
       "Product_Subline                                     Product_Subline_4  \\\n",
       "Customer_Hash                                                           \n",
       "000128276c19c8d7dbac91ad5bf54639f1d3e8f308f89f9...              4.408   \n",
       "0005e7feb93c679c28814eacda65f194a5f0d949c0374b0...                NaN   \n",
       "000637d7e3c727be6490413f3a28e857d16f54be469fcac...                NaN   \n",
       "00083d3d1c01000088b30d1ae5d912c2c8bc83ca74b0ef5...                NaN   \n",
       "000cd92bf5b7d818165970b409aa183ebeb1d0270c87151...                NaN   \n",
       "\n",
       "Product_Subline                                     Product_Subline_5  \n",
       "Customer_Hash                                                          \n",
       "000128276c19c8d7dbac91ad5bf54639f1d3e8f308f89f9...                NaN  \n",
       "0005e7feb93c679c28814eacda65f194a5f0d949c0374b0...                NaN  \n",
       "000637d7e3c727be6490413f3a28e857d16f54be469fcac...                NaN  \n",
       "00083d3d1c01000088b30d1ae5d912c2c8bc83ca74b0ef5...                NaN  \n",
       "000cd92bf5b7d818165970b409aa183ebeb1d0270c87151...                NaN  "
      ]
     },
     "execution_count": 59,
     "metadata": {},
     "output_type": "execute_result"
    }
   ],
   "source": [
    "table.head()"
   ]
  },
  {
   "cell_type": "code",
   "execution_count": 60,
   "metadata": {},
   "outputs": [],
   "source": [
    "#add new column to test if customer buys Product_Line_2  0= no, 1 = yes\n",
    "table['buys_PL2']=0"
   ]
  },
  {
   "cell_type": "code",
   "execution_count": 61,
   "metadata": {},
   "outputs": [
    {
     "data": {
      "text/html": [
       "<div>\n",
       "<style scoped>\n",
       "    .dataframe tbody tr th:only-of-type {\n",
       "        vertical-align: middle;\n",
       "    }\n",
       "\n",
       "    .dataframe tbody tr th {\n",
       "        vertical-align: top;\n",
       "    }\n",
       "\n",
       "    .dataframe thead th {\n",
       "        text-align: right;\n",
       "    }\n",
       "</style>\n",
       "<table border=\"1\" class=\"dataframe\">\n",
       "  <thead>\n",
       "    <tr style=\"text-align: right;\">\n",
       "      <th>Product_Subline</th>\n",
       "      <th>Product_Subline_1</th>\n",
       "      <th>Product_Subline_2</th>\n",
       "      <th>Product_Subline_3</th>\n",
       "      <th>Product_Subline_4</th>\n",
       "      <th>Product_Subline_5</th>\n",
       "      <th>buys_PL2</th>\n",
       "    </tr>\n",
       "    <tr>\n",
       "      <th>Customer_Hash</th>\n",
       "      <th></th>\n",
       "      <th></th>\n",
       "      <th></th>\n",
       "      <th></th>\n",
       "      <th></th>\n",
       "      <th></th>\n",
       "    </tr>\n",
       "  </thead>\n",
       "  <tbody>\n",
       "    <tr>\n",
       "      <th>000128276c19c8d7dbac91ad5bf54639f1d3e8f308f89f9b3c58852914733301</th>\n",
       "      <td>NaN</td>\n",
       "      <td>NaN</td>\n",
       "      <td>NaN</td>\n",
       "      <td>4.408</td>\n",
       "      <td>NaN</td>\n",
       "      <td>0</td>\n",
       "    </tr>\n",
       "    <tr>\n",
       "      <th>0005e7feb93c679c28814eacda65f194a5f0d949c0374b0d4bda8d7ceecdcbae</th>\n",
       "      <td>2.317</td>\n",
       "      <td>3.360</td>\n",
       "      <td>3.750</td>\n",
       "      <td>NaN</td>\n",
       "      <td>NaN</td>\n",
       "      <td>0</td>\n",
       "    </tr>\n",
       "    <tr>\n",
       "      <th>000637d7e3c727be6490413f3a28e857d16f54be469fcac56a80879a75dbe74d</th>\n",
       "      <td>4.481</td>\n",
       "      <td>NaN</td>\n",
       "      <td>NaN</td>\n",
       "      <td>NaN</td>\n",
       "      <td>NaN</td>\n",
       "      <td>0</td>\n",
       "    </tr>\n",
       "    <tr>\n",
       "      <th>00083d3d1c01000088b30d1ae5d912c2c8bc83ca74b0ef5b31043ba7db7ddabb</th>\n",
       "      <td>1.513</td>\n",
       "      <td>NaN</td>\n",
       "      <td>NaN</td>\n",
       "      <td>NaN</td>\n",
       "      <td>NaN</td>\n",
       "      <td>0</td>\n",
       "    </tr>\n",
       "    <tr>\n",
       "      <th>000cd92bf5b7d818165970b409aa183ebeb1d0270c871519324cc37a4dd96dc3</th>\n",
       "      <td>3.289</td>\n",
       "      <td>4.247</td>\n",
       "      <td>NaN</td>\n",
       "      <td>NaN</td>\n",
       "      <td>NaN</td>\n",
       "      <td>0</td>\n",
       "    </tr>\n",
       "  </tbody>\n",
       "</table>\n",
       "</div>"
      ],
      "text/plain": [
       "Product_Subline                                     Product_Subline_1  \\\n",
       "Customer_Hash                                                           \n",
       "000128276c19c8d7dbac91ad5bf54639f1d3e8f308f89f9...                NaN   \n",
       "0005e7feb93c679c28814eacda65f194a5f0d949c0374b0...              2.317   \n",
       "000637d7e3c727be6490413f3a28e857d16f54be469fcac...              4.481   \n",
       "00083d3d1c01000088b30d1ae5d912c2c8bc83ca74b0ef5...              1.513   \n",
       "000cd92bf5b7d818165970b409aa183ebeb1d0270c87151...              3.289   \n",
       "\n",
       "Product_Subline                                     Product_Subline_2  \\\n",
       "Customer_Hash                                                           \n",
       "000128276c19c8d7dbac91ad5bf54639f1d3e8f308f89f9...                NaN   \n",
       "0005e7feb93c679c28814eacda65f194a5f0d949c0374b0...              3.360   \n",
       "000637d7e3c727be6490413f3a28e857d16f54be469fcac...                NaN   \n",
       "00083d3d1c01000088b30d1ae5d912c2c8bc83ca74b0ef5...                NaN   \n",
       "000cd92bf5b7d818165970b409aa183ebeb1d0270c87151...              4.247   \n",
       "\n",
       "Product_Subline                                     Product_Subline_3  \\\n",
       "Customer_Hash                                                           \n",
       "000128276c19c8d7dbac91ad5bf54639f1d3e8f308f89f9...                NaN   \n",
       "0005e7feb93c679c28814eacda65f194a5f0d949c0374b0...              3.750   \n",
       "000637d7e3c727be6490413f3a28e857d16f54be469fcac...                NaN   \n",
       "00083d3d1c01000088b30d1ae5d912c2c8bc83ca74b0ef5...                NaN   \n",
       "000cd92bf5b7d818165970b409aa183ebeb1d0270c87151...                NaN   \n",
       "\n",
       "Product_Subline                                     Product_Subline_4  \\\n",
       "Customer_Hash                                                           \n",
       "000128276c19c8d7dbac91ad5bf54639f1d3e8f308f89f9...              4.408   \n",
       "0005e7feb93c679c28814eacda65f194a5f0d949c0374b0...                NaN   \n",
       "000637d7e3c727be6490413f3a28e857d16f54be469fcac...                NaN   \n",
       "00083d3d1c01000088b30d1ae5d912c2c8bc83ca74b0ef5...                NaN   \n",
       "000cd92bf5b7d818165970b409aa183ebeb1d0270c87151...                NaN   \n",
       "\n",
       "Product_Subline                                     Product_Subline_5  \\\n",
       "Customer_Hash                                                           \n",
       "000128276c19c8d7dbac91ad5bf54639f1d3e8f308f89f9...                NaN   \n",
       "0005e7feb93c679c28814eacda65f194a5f0d949c0374b0...                NaN   \n",
       "000637d7e3c727be6490413f3a28e857d16f54be469fcac...                NaN   \n",
       "00083d3d1c01000088b30d1ae5d912c2c8bc83ca74b0ef5...                NaN   \n",
       "000cd92bf5b7d818165970b409aa183ebeb1d0270c87151...                NaN   \n",
       "\n",
       "Product_Subline                                     buys_PL2  \n",
       "Customer_Hash                                                 \n",
       "000128276c19c8d7dbac91ad5bf54639f1d3e8f308f89f9...         0  \n",
       "0005e7feb93c679c28814eacda65f194a5f0d949c0374b0...         0  \n",
       "000637d7e3c727be6490413f3a28e857d16f54be469fcac...         0  \n",
       "00083d3d1c01000088b30d1ae5d912c2c8bc83ca74b0ef5...         0  \n",
       "000cd92bf5b7d818165970b409aa183ebeb1d0270c87151...         0  "
      ]
     },
     "execution_count": 61,
     "metadata": {},
     "output_type": "execute_result"
    }
   ],
   "source": [
    "table.head()"
   ]
  },
  {
   "cell_type": "code",
   "execution_count": 62,
   "metadata": {},
   "outputs": [
    {
     "data": {
      "text/plain": [
       "buys_PL2\n",
       "0    10202\n",
       "1     6841\n",
       "Name: count, dtype: int64"
      ]
     },
     "execution_count": 62,
     "metadata": {},
     "output_type": "execute_result"
    }
   ],
   "source": [
    "#check to see if Customer bought SubLine2 Product\n",
    "table.loc[(table['Product_Subline_2']>0),'buys_PL2']=1\n",
    "table['buys_PL2'].value_counts()"
   ]
  },
  {
   "cell_type": "code",
   "execution_count": 63,
   "metadata": {},
   "outputs": [],
   "source": [
    "#add new column to test if customer buys security 0= no, 1 = yes\n",
    "table['buys_PL1']=0"
   ]
  },
  {
   "cell_type": "code",
   "execution_count": 64,
   "metadata": {},
   "outputs": [
    {
     "data": {
      "text/html": [
       "<div>\n",
       "<style scoped>\n",
       "    .dataframe tbody tr th:only-of-type {\n",
       "        vertical-align: middle;\n",
       "    }\n",
       "\n",
       "    .dataframe tbody tr th {\n",
       "        vertical-align: top;\n",
       "    }\n",
       "\n",
       "    .dataframe thead th {\n",
       "        text-align: right;\n",
       "    }\n",
       "</style>\n",
       "<table border=\"1\" class=\"dataframe\">\n",
       "  <thead>\n",
       "    <tr style=\"text-align: right;\">\n",
       "      <th>Product_Subline</th>\n",
       "      <th>Product_Subline_1</th>\n",
       "      <th>Product_Subline_2</th>\n",
       "      <th>Product_Subline_3</th>\n",
       "      <th>Product_Subline_4</th>\n",
       "      <th>Product_Subline_5</th>\n",
       "      <th>buys_PL2</th>\n",
       "      <th>buys_PL1</th>\n",
       "    </tr>\n",
       "    <tr>\n",
       "      <th>Customer_Hash</th>\n",
       "      <th></th>\n",
       "      <th></th>\n",
       "      <th></th>\n",
       "      <th></th>\n",
       "      <th></th>\n",
       "      <th></th>\n",
       "      <th></th>\n",
       "    </tr>\n",
       "  </thead>\n",
       "  <tbody>\n",
       "    <tr>\n",
       "      <th>000128276c19c8d7dbac91ad5bf54639f1d3e8f308f89f9b3c58852914733301</th>\n",
       "      <td>NaN</td>\n",
       "      <td>NaN</td>\n",
       "      <td>NaN</td>\n",
       "      <td>4.408</td>\n",
       "      <td>NaN</td>\n",
       "      <td>0</td>\n",
       "      <td>0</td>\n",
       "    </tr>\n",
       "    <tr>\n",
       "      <th>0005e7feb93c679c28814eacda65f194a5f0d949c0374b0d4bda8d7ceecdcbae</th>\n",
       "      <td>2.317</td>\n",
       "      <td>3.360</td>\n",
       "      <td>3.750</td>\n",
       "      <td>NaN</td>\n",
       "      <td>NaN</td>\n",
       "      <td>1</td>\n",
       "      <td>0</td>\n",
       "    </tr>\n",
       "    <tr>\n",
       "      <th>000637d7e3c727be6490413f3a28e857d16f54be469fcac56a80879a75dbe74d</th>\n",
       "      <td>4.481</td>\n",
       "      <td>NaN</td>\n",
       "      <td>NaN</td>\n",
       "      <td>NaN</td>\n",
       "      <td>NaN</td>\n",
       "      <td>0</td>\n",
       "      <td>0</td>\n",
       "    </tr>\n",
       "    <tr>\n",
       "      <th>00083d3d1c01000088b30d1ae5d912c2c8bc83ca74b0ef5b31043ba7db7ddabb</th>\n",
       "      <td>1.513</td>\n",
       "      <td>NaN</td>\n",
       "      <td>NaN</td>\n",
       "      <td>NaN</td>\n",
       "      <td>NaN</td>\n",
       "      <td>0</td>\n",
       "      <td>0</td>\n",
       "    </tr>\n",
       "    <tr>\n",
       "      <th>000cd92bf5b7d818165970b409aa183ebeb1d0270c871519324cc37a4dd96dc3</th>\n",
       "      <td>3.289</td>\n",
       "      <td>4.247</td>\n",
       "      <td>NaN</td>\n",
       "      <td>NaN</td>\n",
       "      <td>NaN</td>\n",
       "      <td>1</td>\n",
       "      <td>0</td>\n",
       "    </tr>\n",
       "  </tbody>\n",
       "</table>\n",
       "</div>"
      ],
      "text/plain": [
       "Product_Subline                                     Product_Subline_1  \\\n",
       "Customer_Hash                                                           \n",
       "000128276c19c8d7dbac91ad5bf54639f1d3e8f308f89f9...                NaN   \n",
       "0005e7feb93c679c28814eacda65f194a5f0d949c0374b0...              2.317   \n",
       "000637d7e3c727be6490413f3a28e857d16f54be469fcac...              4.481   \n",
       "00083d3d1c01000088b30d1ae5d912c2c8bc83ca74b0ef5...              1.513   \n",
       "000cd92bf5b7d818165970b409aa183ebeb1d0270c87151...              3.289   \n",
       "\n",
       "Product_Subline                                     Product_Subline_2  \\\n",
       "Customer_Hash                                                           \n",
       "000128276c19c8d7dbac91ad5bf54639f1d3e8f308f89f9...                NaN   \n",
       "0005e7feb93c679c28814eacda65f194a5f0d949c0374b0...              3.360   \n",
       "000637d7e3c727be6490413f3a28e857d16f54be469fcac...                NaN   \n",
       "00083d3d1c01000088b30d1ae5d912c2c8bc83ca74b0ef5...                NaN   \n",
       "000cd92bf5b7d818165970b409aa183ebeb1d0270c87151...              4.247   \n",
       "\n",
       "Product_Subline                                     Product_Subline_3  \\\n",
       "Customer_Hash                                                           \n",
       "000128276c19c8d7dbac91ad5bf54639f1d3e8f308f89f9...                NaN   \n",
       "0005e7feb93c679c28814eacda65f194a5f0d949c0374b0...              3.750   \n",
       "000637d7e3c727be6490413f3a28e857d16f54be469fcac...                NaN   \n",
       "00083d3d1c01000088b30d1ae5d912c2c8bc83ca74b0ef5...                NaN   \n",
       "000cd92bf5b7d818165970b409aa183ebeb1d0270c87151...                NaN   \n",
       "\n",
       "Product_Subline                                     Product_Subline_4  \\\n",
       "Customer_Hash                                                           \n",
       "000128276c19c8d7dbac91ad5bf54639f1d3e8f308f89f9...              4.408   \n",
       "0005e7feb93c679c28814eacda65f194a5f0d949c0374b0...                NaN   \n",
       "000637d7e3c727be6490413f3a28e857d16f54be469fcac...                NaN   \n",
       "00083d3d1c01000088b30d1ae5d912c2c8bc83ca74b0ef5...                NaN   \n",
       "000cd92bf5b7d818165970b409aa183ebeb1d0270c87151...                NaN   \n",
       "\n",
       "Product_Subline                                     Product_Subline_5  \\\n",
       "Customer_Hash                                                           \n",
       "000128276c19c8d7dbac91ad5bf54639f1d3e8f308f89f9...                NaN   \n",
       "0005e7feb93c679c28814eacda65f194a5f0d949c0374b0...                NaN   \n",
       "000637d7e3c727be6490413f3a28e857d16f54be469fcac...                NaN   \n",
       "00083d3d1c01000088b30d1ae5d912c2c8bc83ca74b0ef5...                NaN   \n",
       "000cd92bf5b7d818165970b409aa183ebeb1d0270c87151...                NaN   \n",
       "\n",
       "Product_Subline                                     buys_PL2  buys_PL1  \n",
       "Customer_Hash                                                           \n",
       "000128276c19c8d7dbac91ad5bf54639f1d3e8f308f89f9...         0         0  \n",
       "0005e7feb93c679c28814eacda65f194a5f0d949c0374b0...         1         0  \n",
       "000637d7e3c727be6490413f3a28e857d16f54be469fcac...         0         0  \n",
       "00083d3d1c01000088b30d1ae5d912c2c8bc83ca74b0ef5...         0         0  \n",
       "000cd92bf5b7d818165970b409aa183ebeb1d0270c87151...         1         0  "
      ]
     },
     "execution_count": 64,
     "metadata": {},
     "output_type": "execute_result"
    }
   ],
   "source": [
    "table.head()"
   ]
  },
  {
   "cell_type": "code",
   "execution_count": 65,
   "metadata": {},
   "outputs": [
    {
     "data": {
      "text/plain": [
       "buys_PL1\n",
       "1    16320\n",
       "0      723\n",
       "Name: count, dtype: int64"
      ]
     },
     "execution_count": 65,
     "metadata": {},
     "output_type": "execute_result"
    }
   ],
   "source": [
    "#See if customer buys any subline of Product_Line_1 = no, 1 = yes\n",
    "table.loc[(table['Product_Subline_1']>0) |\n",
    "(table['Product_Subline_3']>0) |\n",
    "(table['Product_Subline_4']>0) |\n",
    "(table['Product_Subline_5']>0),\n",
    "'buys_PL1']=1\n",
    "table['buys_PL1'].value_counts()"
   ]
  },
  {
   "cell_type": "code",
   "execution_count": 66,
   "metadata": {},
   "outputs": [
    {
     "data": {
      "text/html": [
       "<div>\n",
       "<style scoped>\n",
       "    .dataframe tbody tr th:only-of-type {\n",
       "        vertical-align: middle;\n",
       "    }\n",
       "\n",
       "    .dataframe tbody tr th {\n",
       "        vertical-align: top;\n",
       "    }\n",
       "\n",
       "    .dataframe thead th {\n",
       "        text-align: right;\n",
       "    }\n",
       "</style>\n",
       "<table border=\"1\" class=\"dataframe\">\n",
       "  <thead>\n",
       "    <tr style=\"text-align: right;\">\n",
       "      <th>Product_Subline</th>\n",
       "      <th>Product_Subline_1</th>\n",
       "      <th>Product_Subline_2</th>\n",
       "      <th>Product_Subline_3</th>\n",
       "      <th>Product_Subline_4</th>\n",
       "      <th>Product_Subline_5</th>\n",
       "      <th>buys_PL2</th>\n",
       "      <th>buys_PL1</th>\n",
       "    </tr>\n",
       "    <tr>\n",
       "      <th>Customer_Hash</th>\n",
       "      <th></th>\n",
       "      <th></th>\n",
       "      <th></th>\n",
       "      <th></th>\n",
       "      <th></th>\n",
       "      <th></th>\n",
       "      <th></th>\n",
       "    </tr>\n",
       "  </thead>\n",
       "  <tbody>\n",
       "    <tr>\n",
       "      <th>000128276c19c8d7dbac91ad5bf54639f1d3e8f308f89f9b3c58852914733301</th>\n",
       "      <td>NaN</td>\n",
       "      <td>NaN</td>\n",
       "      <td>NaN</td>\n",
       "      <td>4.408</td>\n",
       "      <td>NaN</td>\n",
       "      <td>0</td>\n",
       "      <td>1</td>\n",
       "    </tr>\n",
       "    <tr>\n",
       "      <th>0005e7feb93c679c28814eacda65f194a5f0d949c0374b0d4bda8d7ceecdcbae</th>\n",
       "      <td>2.317</td>\n",
       "      <td>3.360</td>\n",
       "      <td>3.750</td>\n",
       "      <td>NaN</td>\n",
       "      <td>NaN</td>\n",
       "      <td>1</td>\n",
       "      <td>1</td>\n",
       "    </tr>\n",
       "    <tr>\n",
       "      <th>000637d7e3c727be6490413f3a28e857d16f54be469fcac56a80879a75dbe74d</th>\n",
       "      <td>4.481</td>\n",
       "      <td>NaN</td>\n",
       "      <td>NaN</td>\n",
       "      <td>NaN</td>\n",
       "      <td>NaN</td>\n",
       "      <td>0</td>\n",
       "      <td>1</td>\n",
       "    </tr>\n",
       "    <tr>\n",
       "      <th>00083d3d1c01000088b30d1ae5d912c2c8bc83ca74b0ef5b31043ba7db7ddabb</th>\n",
       "      <td>1.513</td>\n",
       "      <td>NaN</td>\n",
       "      <td>NaN</td>\n",
       "      <td>NaN</td>\n",
       "      <td>NaN</td>\n",
       "      <td>0</td>\n",
       "      <td>1</td>\n",
       "    </tr>\n",
       "    <tr>\n",
       "      <th>000cd92bf5b7d818165970b409aa183ebeb1d0270c871519324cc37a4dd96dc3</th>\n",
       "      <td>3.289</td>\n",
       "      <td>4.247</td>\n",
       "      <td>NaN</td>\n",
       "      <td>NaN</td>\n",
       "      <td>NaN</td>\n",
       "      <td>1</td>\n",
       "      <td>1</td>\n",
       "    </tr>\n",
       "    <tr>\n",
       "      <th>00107cbf04f82fcab09b9fc1f58932b20ac2ed19b529ba2cbc4a4ffabb1ad108</th>\n",
       "      <td>2.307</td>\n",
       "      <td>3.206</td>\n",
       "      <td>NaN</td>\n",
       "      <td>NaN</td>\n",
       "      <td>NaN</td>\n",
       "      <td>1</td>\n",
       "      <td>1</td>\n",
       "    </tr>\n",
       "    <tr>\n",
       "      <th>0016e8a1828315f9e566876282f0f9560728a2a59594476132b8017f8901d622</th>\n",
       "      <td>NaN</td>\n",
       "      <td>NaN</td>\n",
       "      <td>3.962</td>\n",
       "      <td>NaN</td>\n",
       "      <td>NaN</td>\n",
       "      <td>0</td>\n",
       "      <td>1</td>\n",
       "    </tr>\n",
       "    <tr>\n",
       "      <th>001cddca80f747fe6b9007dbe69e1c63eaf45474fef74ae60147806e71ad1556</th>\n",
       "      <td>2.588</td>\n",
       "      <td>3.558</td>\n",
       "      <td>4.298</td>\n",
       "      <td>NaN</td>\n",
       "      <td>NaN</td>\n",
       "      <td>1</td>\n",
       "      <td>1</td>\n",
       "    </tr>\n",
       "    <tr>\n",
       "      <th>002666402e595599503d79341f490ccbc49bb4f5e77eada3d45d4bc00fd41a14</th>\n",
       "      <td>NaN</td>\n",
       "      <td>5.215</td>\n",
       "      <td>NaN</td>\n",
       "      <td>NaN</td>\n",
       "      <td>NaN</td>\n",
       "      <td>1</td>\n",
       "      <td>0</td>\n",
       "    </tr>\n",
       "    <tr>\n",
       "      <th>0028afbec4d29a165a30732861b54e2460fb73b19335763ede11d55f57e170c8</th>\n",
       "      <td>NaN</td>\n",
       "      <td>2.976</td>\n",
       "      <td>NaN</td>\n",
       "      <td>NaN</td>\n",
       "      <td>3.391</td>\n",
       "      <td>1</td>\n",
       "      <td>1</td>\n",
       "    </tr>\n",
       "  </tbody>\n",
       "</table>\n",
       "</div>"
      ],
      "text/plain": [
       "Product_Subline                                     Product_Subline_1  \\\n",
       "Customer_Hash                                                           \n",
       "000128276c19c8d7dbac91ad5bf54639f1d3e8f308f89f9...                NaN   \n",
       "0005e7feb93c679c28814eacda65f194a5f0d949c0374b0...              2.317   \n",
       "000637d7e3c727be6490413f3a28e857d16f54be469fcac...              4.481   \n",
       "00083d3d1c01000088b30d1ae5d912c2c8bc83ca74b0ef5...              1.513   \n",
       "000cd92bf5b7d818165970b409aa183ebeb1d0270c87151...              3.289   \n",
       "00107cbf04f82fcab09b9fc1f58932b20ac2ed19b529ba2...              2.307   \n",
       "0016e8a1828315f9e566876282f0f9560728a2a59594476...                NaN   \n",
       "001cddca80f747fe6b9007dbe69e1c63eaf45474fef74ae...              2.588   \n",
       "002666402e595599503d79341f490ccbc49bb4f5e77eada...                NaN   \n",
       "0028afbec4d29a165a30732861b54e2460fb73b19335763...                NaN   \n",
       "\n",
       "Product_Subline                                     Product_Subline_2  \\\n",
       "Customer_Hash                                                           \n",
       "000128276c19c8d7dbac91ad5bf54639f1d3e8f308f89f9...                NaN   \n",
       "0005e7feb93c679c28814eacda65f194a5f0d949c0374b0...              3.360   \n",
       "000637d7e3c727be6490413f3a28e857d16f54be469fcac...                NaN   \n",
       "00083d3d1c01000088b30d1ae5d912c2c8bc83ca74b0ef5...                NaN   \n",
       "000cd92bf5b7d818165970b409aa183ebeb1d0270c87151...              4.247   \n",
       "00107cbf04f82fcab09b9fc1f58932b20ac2ed19b529ba2...              3.206   \n",
       "0016e8a1828315f9e566876282f0f9560728a2a59594476...                NaN   \n",
       "001cddca80f747fe6b9007dbe69e1c63eaf45474fef74ae...              3.558   \n",
       "002666402e595599503d79341f490ccbc49bb4f5e77eada...              5.215   \n",
       "0028afbec4d29a165a30732861b54e2460fb73b19335763...              2.976   \n",
       "\n",
       "Product_Subline                                     Product_Subline_3  \\\n",
       "Customer_Hash                                                           \n",
       "000128276c19c8d7dbac91ad5bf54639f1d3e8f308f89f9...                NaN   \n",
       "0005e7feb93c679c28814eacda65f194a5f0d949c0374b0...              3.750   \n",
       "000637d7e3c727be6490413f3a28e857d16f54be469fcac...                NaN   \n",
       "00083d3d1c01000088b30d1ae5d912c2c8bc83ca74b0ef5...                NaN   \n",
       "000cd92bf5b7d818165970b409aa183ebeb1d0270c87151...                NaN   \n",
       "00107cbf04f82fcab09b9fc1f58932b20ac2ed19b529ba2...                NaN   \n",
       "0016e8a1828315f9e566876282f0f9560728a2a59594476...              3.962   \n",
       "001cddca80f747fe6b9007dbe69e1c63eaf45474fef74ae...              4.298   \n",
       "002666402e595599503d79341f490ccbc49bb4f5e77eada...                NaN   \n",
       "0028afbec4d29a165a30732861b54e2460fb73b19335763...                NaN   \n",
       "\n",
       "Product_Subline                                     Product_Subline_4  \\\n",
       "Customer_Hash                                                           \n",
       "000128276c19c8d7dbac91ad5bf54639f1d3e8f308f89f9...              4.408   \n",
       "0005e7feb93c679c28814eacda65f194a5f0d949c0374b0...                NaN   \n",
       "000637d7e3c727be6490413f3a28e857d16f54be469fcac...                NaN   \n",
       "00083d3d1c01000088b30d1ae5d912c2c8bc83ca74b0ef5...                NaN   \n",
       "000cd92bf5b7d818165970b409aa183ebeb1d0270c87151...                NaN   \n",
       "00107cbf04f82fcab09b9fc1f58932b20ac2ed19b529ba2...                NaN   \n",
       "0016e8a1828315f9e566876282f0f9560728a2a59594476...                NaN   \n",
       "001cddca80f747fe6b9007dbe69e1c63eaf45474fef74ae...                NaN   \n",
       "002666402e595599503d79341f490ccbc49bb4f5e77eada...                NaN   \n",
       "0028afbec4d29a165a30732861b54e2460fb73b19335763...                NaN   \n",
       "\n",
       "Product_Subline                                     Product_Subline_5  \\\n",
       "Customer_Hash                                                           \n",
       "000128276c19c8d7dbac91ad5bf54639f1d3e8f308f89f9...                NaN   \n",
       "0005e7feb93c679c28814eacda65f194a5f0d949c0374b0...                NaN   \n",
       "000637d7e3c727be6490413f3a28e857d16f54be469fcac...                NaN   \n",
       "00083d3d1c01000088b30d1ae5d912c2c8bc83ca74b0ef5...                NaN   \n",
       "000cd92bf5b7d818165970b409aa183ebeb1d0270c87151...                NaN   \n",
       "00107cbf04f82fcab09b9fc1f58932b20ac2ed19b529ba2...                NaN   \n",
       "0016e8a1828315f9e566876282f0f9560728a2a59594476...                NaN   \n",
       "001cddca80f747fe6b9007dbe69e1c63eaf45474fef74ae...                NaN   \n",
       "002666402e595599503d79341f490ccbc49bb4f5e77eada...                NaN   \n",
       "0028afbec4d29a165a30732861b54e2460fb73b19335763...              3.391   \n",
       "\n",
       "Product_Subline                                     buys_PL2  buys_PL1  \n",
       "Customer_Hash                                                           \n",
       "000128276c19c8d7dbac91ad5bf54639f1d3e8f308f89f9...         0         1  \n",
       "0005e7feb93c679c28814eacda65f194a5f0d949c0374b0...         1         1  \n",
       "000637d7e3c727be6490413f3a28e857d16f54be469fcac...         0         1  \n",
       "00083d3d1c01000088b30d1ae5d912c2c8bc83ca74b0ef5...         0         1  \n",
       "000cd92bf5b7d818165970b409aa183ebeb1d0270c87151...         1         1  \n",
       "00107cbf04f82fcab09b9fc1f58932b20ac2ed19b529ba2...         1         1  \n",
       "0016e8a1828315f9e566876282f0f9560728a2a59594476...         0         1  \n",
       "001cddca80f747fe6b9007dbe69e1c63eaf45474fef74ae...         1         1  \n",
       "002666402e595599503d79341f490ccbc49bb4f5e77eada...         1         0  \n",
       "0028afbec4d29a165a30732861b54e2460fb73b19335763...         1         1  "
      ]
     },
     "execution_count": 66,
     "metadata": {},
     "output_type": "execute_result"
    }
   ],
   "source": [
    "#check to see if previous from cell worked\n",
    "table.head(10)"
   ]
  },
  {
   "cell_type": "code",
   "execution_count": 67,
   "metadata": {},
   "outputs": [],
   "source": [
    "#Look at customers that buy Products from Line1 and Line2 \n",
    "#create new a column that checks for customers that buy both , encoding:  1 = customer buy both Lines, 0= buy only Line1 or Line 2\n",
    "table['buys_both'] = 0"
   ]
  },
  {
   "cell_type": "code",
   "execution_count": 68,
   "metadata": {},
   "outputs": [
    {
     "data": {
      "text/html": [
       "<div>\n",
       "<style scoped>\n",
       "    .dataframe tbody tr th:only-of-type {\n",
       "        vertical-align: middle;\n",
       "    }\n",
       "\n",
       "    .dataframe tbody tr th {\n",
       "        vertical-align: top;\n",
       "    }\n",
       "\n",
       "    .dataframe thead th {\n",
       "        text-align: right;\n",
       "    }\n",
       "</style>\n",
       "<table border=\"1\" class=\"dataframe\">\n",
       "  <thead>\n",
       "    <tr style=\"text-align: right;\">\n",
       "      <th>Product_Subline</th>\n",
       "      <th>Product_Subline_1</th>\n",
       "      <th>Product_Subline_2</th>\n",
       "      <th>Product_Subline_3</th>\n",
       "      <th>Product_Subline_4</th>\n",
       "      <th>Product_Subline_5</th>\n",
       "      <th>buys_PL2</th>\n",
       "      <th>buys_PL1</th>\n",
       "      <th>buys_both</th>\n",
       "    </tr>\n",
       "    <tr>\n",
       "      <th>Customer_Hash</th>\n",
       "      <th></th>\n",
       "      <th></th>\n",
       "      <th></th>\n",
       "      <th></th>\n",
       "      <th></th>\n",
       "      <th></th>\n",
       "      <th></th>\n",
       "      <th></th>\n",
       "    </tr>\n",
       "  </thead>\n",
       "  <tbody>\n",
       "    <tr>\n",
       "      <th>000128276c19c8d7dbac91ad5bf54639f1d3e8f308f89f9b3c58852914733301</th>\n",
       "      <td>NaN</td>\n",
       "      <td>NaN</td>\n",
       "      <td>NaN</td>\n",
       "      <td>4.408</td>\n",
       "      <td>NaN</td>\n",
       "      <td>0</td>\n",
       "      <td>1</td>\n",
       "      <td>0</td>\n",
       "    </tr>\n",
       "    <tr>\n",
       "      <th>0005e7feb93c679c28814eacda65f194a5f0d949c0374b0d4bda8d7ceecdcbae</th>\n",
       "      <td>2.317</td>\n",
       "      <td>3.360</td>\n",
       "      <td>3.750</td>\n",
       "      <td>NaN</td>\n",
       "      <td>NaN</td>\n",
       "      <td>1</td>\n",
       "      <td>1</td>\n",
       "      <td>0</td>\n",
       "    </tr>\n",
       "    <tr>\n",
       "      <th>000637d7e3c727be6490413f3a28e857d16f54be469fcac56a80879a75dbe74d</th>\n",
       "      <td>4.481</td>\n",
       "      <td>NaN</td>\n",
       "      <td>NaN</td>\n",
       "      <td>NaN</td>\n",
       "      <td>NaN</td>\n",
       "      <td>0</td>\n",
       "      <td>1</td>\n",
       "      <td>0</td>\n",
       "    </tr>\n",
       "    <tr>\n",
       "      <th>00083d3d1c01000088b30d1ae5d912c2c8bc83ca74b0ef5b31043ba7db7ddabb</th>\n",
       "      <td>1.513</td>\n",
       "      <td>NaN</td>\n",
       "      <td>NaN</td>\n",
       "      <td>NaN</td>\n",
       "      <td>NaN</td>\n",
       "      <td>0</td>\n",
       "      <td>1</td>\n",
       "      <td>0</td>\n",
       "    </tr>\n",
       "    <tr>\n",
       "      <th>000cd92bf5b7d818165970b409aa183ebeb1d0270c871519324cc37a4dd96dc3</th>\n",
       "      <td>3.289</td>\n",
       "      <td>4.247</td>\n",
       "      <td>NaN</td>\n",
       "      <td>NaN</td>\n",
       "      <td>NaN</td>\n",
       "      <td>1</td>\n",
       "      <td>1</td>\n",
       "      <td>0</td>\n",
       "    </tr>\n",
       "  </tbody>\n",
       "</table>\n",
       "</div>"
      ],
      "text/plain": [
       "Product_Subline                                     Product_Subline_1  \\\n",
       "Customer_Hash                                                           \n",
       "000128276c19c8d7dbac91ad5bf54639f1d3e8f308f89f9...                NaN   \n",
       "0005e7feb93c679c28814eacda65f194a5f0d949c0374b0...              2.317   \n",
       "000637d7e3c727be6490413f3a28e857d16f54be469fcac...              4.481   \n",
       "00083d3d1c01000088b30d1ae5d912c2c8bc83ca74b0ef5...              1.513   \n",
       "000cd92bf5b7d818165970b409aa183ebeb1d0270c87151...              3.289   \n",
       "\n",
       "Product_Subline                                     Product_Subline_2  \\\n",
       "Customer_Hash                                                           \n",
       "000128276c19c8d7dbac91ad5bf54639f1d3e8f308f89f9...                NaN   \n",
       "0005e7feb93c679c28814eacda65f194a5f0d949c0374b0...              3.360   \n",
       "000637d7e3c727be6490413f3a28e857d16f54be469fcac...                NaN   \n",
       "00083d3d1c01000088b30d1ae5d912c2c8bc83ca74b0ef5...                NaN   \n",
       "000cd92bf5b7d818165970b409aa183ebeb1d0270c87151...              4.247   \n",
       "\n",
       "Product_Subline                                     Product_Subline_3  \\\n",
       "Customer_Hash                                                           \n",
       "000128276c19c8d7dbac91ad5bf54639f1d3e8f308f89f9...                NaN   \n",
       "0005e7feb93c679c28814eacda65f194a5f0d949c0374b0...              3.750   \n",
       "000637d7e3c727be6490413f3a28e857d16f54be469fcac...                NaN   \n",
       "00083d3d1c01000088b30d1ae5d912c2c8bc83ca74b0ef5...                NaN   \n",
       "000cd92bf5b7d818165970b409aa183ebeb1d0270c87151...                NaN   \n",
       "\n",
       "Product_Subline                                     Product_Subline_4  \\\n",
       "Customer_Hash                                                           \n",
       "000128276c19c8d7dbac91ad5bf54639f1d3e8f308f89f9...              4.408   \n",
       "0005e7feb93c679c28814eacda65f194a5f0d949c0374b0...                NaN   \n",
       "000637d7e3c727be6490413f3a28e857d16f54be469fcac...                NaN   \n",
       "00083d3d1c01000088b30d1ae5d912c2c8bc83ca74b0ef5...                NaN   \n",
       "000cd92bf5b7d818165970b409aa183ebeb1d0270c87151...                NaN   \n",
       "\n",
       "Product_Subline                                     Product_Subline_5  \\\n",
       "Customer_Hash                                                           \n",
       "000128276c19c8d7dbac91ad5bf54639f1d3e8f308f89f9...                NaN   \n",
       "0005e7feb93c679c28814eacda65f194a5f0d949c0374b0...                NaN   \n",
       "000637d7e3c727be6490413f3a28e857d16f54be469fcac...                NaN   \n",
       "00083d3d1c01000088b30d1ae5d912c2c8bc83ca74b0ef5...                NaN   \n",
       "000cd92bf5b7d818165970b409aa183ebeb1d0270c87151...                NaN   \n",
       "\n",
       "Product_Subline                                     buys_PL2  buys_PL1  \\\n",
       "Customer_Hash                                                            \n",
       "000128276c19c8d7dbac91ad5bf54639f1d3e8f308f89f9...         0         1   \n",
       "0005e7feb93c679c28814eacda65f194a5f0d949c0374b0...         1         1   \n",
       "000637d7e3c727be6490413f3a28e857d16f54be469fcac...         0         1   \n",
       "00083d3d1c01000088b30d1ae5d912c2c8bc83ca74b0ef5...         0         1   \n",
       "000cd92bf5b7d818165970b409aa183ebeb1d0270c87151...         1         1   \n",
       "\n",
       "Product_Subline                                     buys_both  \n",
       "Customer_Hash                                                  \n",
       "000128276c19c8d7dbac91ad5bf54639f1d3e8f308f89f9...          0  \n",
       "0005e7feb93c679c28814eacda65f194a5f0d949c0374b0...          0  \n",
       "000637d7e3c727be6490413f3a28e857d16f54be469fcac...          0  \n",
       "00083d3d1c01000088b30d1ae5d912c2c8bc83ca74b0ef5...          0  \n",
       "000cd92bf5b7d818165970b409aa183ebeb1d0270c87151...          0  "
      ]
     },
     "execution_count": 68,
     "metadata": {},
     "output_type": "execute_result"
    }
   ],
   "source": [
    "table.head()"
   ]
  },
  {
   "cell_type": "code",
   "execution_count": 69,
   "metadata": {},
   "outputs": [],
   "source": [
    "#populate column for buys both\n",
    "table.loc[(table['buys_PL2']>0) &\n",
    "(table['buys_PL1']>0), \n",
    "'buys_both']=1"
   ]
  },
  {
   "cell_type": "code",
   "execution_count": 70,
   "metadata": {},
   "outputs": [
    {
     "data": {
      "text/plain": [
       "buys_both\n",
       "0   0.641\n",
       "1   0.359\n",
       "Name: proportion, dtype: float64"
      ]
     },
     "execution_count": 70,
     "metadata": {},
     "output_type": "execute_result"
    }
   ],
   "source": [
    "table['buys_both'].value_counts(normalize=True)"
   ]
  },
  {
   "cell_type": "code",
   "execution_count": 71,
   "metadata": {},
   "outputs": [
    {
     "name": "stdout",
     "output_type": "stream",
     "text": [
      "<class 'pandas.core.frame.DataFrame'>\n",
      "Index: 17043 entries, 000128276c19c8d7dbac91ad5bf54639f1d3e8f308f89f9b3c58852914733301 to fffe40b62cee28596d1051876cc4eebf74571235ef02eae5f02b799d5c138b26\n",
      "Data columns (total 8 columns):\n",
      " #   Column             Non-Null Count  Dtype  \n",
      "---  ------             --------------  -----  \n",
      " 0   Product_Subline_1  9076 non-null   float64\n",
      " 1   Product_Subline_2  6841 non-null   float64\n",
      " 2   Product_Subline_3  5730 non-null   float64\n",
      " 3   Product_Subline_4  3794 non-null   float64\n",
      " 4   Product_Subline_5  5656 non-null   float64\n",
      " 5   buys_PL2           17043 non-null  int64  \n",
      " 6   buys_PL1           17043 non-null  int64  \n",
      " 7   buys_both          17043 non-null  int64  \n",
      "dtypes: float64(5), int64(3)\n",
      "memory usage: 1.7+ MB\n"
     ]
    }
   ],
   "source": [
    "table.info()"
   ]
  },
  {
   "cell_type": "code",
   "execution_count": 72,
   "metadata": {},
   "outputs": [],
   "source": [
    "#The difference between these observations count  in the Pivot Table vs the Data Frame denote errors in the Customer labeling, \n",
    "#typicaly a single customer show belong to single Region, Market Segment and Vertical Market"
   ]
  },
  {
   "cell_type": "markdown",
   "metadata": {},
   "source": [
    "Merge the Pivot Table and the Data Frame to consolidate all the Customer Profile and its associated Products."
   ]
  },
  {
   "cell_type": "code",
   "execution_count": 73,
   "metadata": {},
   "outputs": [],
   "source": [
    "#merge table and data frame on customer column \n",
    "df_merge = pd.merge(df_clean, table.loc[:, ['buys_both']], on='Customer_Hash')"
   ]
  },
  {
   "cell_type": "code",
   "execution_count": 74,
   "metadata": {},
   "outputs": [
    {
     "data": {
      "text/plain": [
       "(16495, 6)"
      ]
     },
     "execution_count": 74,
     "metadata": {},
     "output_type": "execute_result"
    },
    {
     "data": {
      "text/html": [
       "<div>\n",
       "<style scoped>\n",
       "    .dataframe tbody tr th:only-of-type {\n",
       "        vertical-align: middle;\n",
       "    }\n",
       "\n",
       "    .dataframe tbody tr th {\n",
       "        vertical-align: top;\n",
       "    }\n",
       "\n",
       "    .dataframe thead th {\n",
       "        text-align: right;\n",
       "    }\n",
       "</style>\n",
       "<table border=\"1\" class=\"dataframe\">\n",
       "  <thead>\n",
       "    <tr style=\"text-align: right;\">\n",
       "      <th></th>\n",
       "      <th>Customer_Hash</th>\n",
       "      <th>Market_Segment</th>\n",
       "      <th>Vertical_Market</th>\n",
       "      <th>Region</th>\n",
       "      <th>Net_Price</th>\n",
       "      <th>buys_both</th>\n",
       "    </tr>\n",
       "  </thead>\n",
       "  <tbody>\n",
       "    <tr>\n",
       "      <th>0</th>\n",
       "      <td>efb935165fc46f423333ae2870618f556342abd88177f9...</td>\n",
       "      <td>COMMERCIAL</td>\n",
       "      <td>Professional Services</td>\n",
       "      <td>GEO_1</td>\n",
       "      <td>5.850</td>\n",
       "      <td>1</td>\n",
       "    </tr>\n",
       "    <tr>\n",
       "      <th>1</th>\n",
       "      <td>8d129893930060bef20fadbb329da0897450543127a951...</td>\n",
       "      <td>PUBLIC SECTOR</td>\n",
       "      <td>Government</td>\n",
       "      <td>GEO_1</td>\n",
       "      <td>5.847</td>\n",
       "      <td>0</td>\n",
       "    </tr>\n",
       "    <tr>\n",
       "      <th>2</th>\n",
       "      <td>d6f10455bddf55b3729d28af1aa68ac0b410fcb553c315...</td>\n",
       "      <td>ENTERPRISE</td>\n",
       "      <td>Government</td>\n",
       "      <td>GEO_1</td>\n",
       "      <td>5.846</td>\n",
       "      <td>0</td>\n",
       "    </tr>\n",
       "    <tr>\n",
       "      <th>3</th>\n",
       "      <td>4091eb3af1c5a7133af357ec2cad02f303e22330481a65...</td>\n",
       "      <td>PUBLIC SECTOR</td>\n",
       "      <td>Financial Services</td>\n",
       "      <td>GEO_1</td>\n",
       "      <td>5.842</td>\n",
       "      <td>1</td>\n",
       "    </tr>\n",
       "    <tr>\n",
       "      <th>4</th>\n",
       "      <td>82a31080419aa3bab339cc7a0f49af038e1c5e151d541b...</td>\n",
       "      <td>ENTERPRISE</td>\n",
       "      <td>Professional Services</td>\n",
       "      <td>GEO_1</td>\n",
       "      <td>5.841</td>\n",
       "      <td>0</td>\n",
       "    </tr>\n",
       "    <tr>\n",
       "      <th>5</th>\n",
       "      <td>7df73f5b869e58faf85a580f0ec348a404a1e40599aa71...</td>\n",
       "      <td>PUBLIC SECTOR</td>\n",
       "      <td>Unknown</td>\n",
       "      <td>GEO_1</td>\n",
       "      <td>5.841</td>\n",
       "      <td>0</td>\n",
       "    </tr>\n",
       "    <tr>\n",
       "      <th>6</th>\n",
       "      <td>ad8942229c32e8b4fd8c05e7fcbd129b9e558a0acbec48...</td>\n",
       "      <td>PUBLIC SECTOR</td>\n",
       "      <td>Education- Public/Private</td>\n",
       "      <td>GEO_2</td>\n",
       "      <td>5.839</td>\n",
       "      <td>0</td>\n",
       "    </tr>\n",
       "    <tr>\n",
       "      <th>7</th>\n",
       "      <td>3a2c7bd9abf2cf37080e945b7a9071542249cf0e09b81a...</td>\n",
       "      <td>PUBLIC SECTOR</td>\n",
       "      <td>Education- Public/Private</td>\n",
       "      <td>GEO_2</td>\n",
       "      <td>5.830</td>\n",
       "      <td>0</td>\n",
       "    </tr>\n",
       "    <tr>\n",
       "      <th>8</th>\n",
       "      <td>19d0c1b645c00839906cb12357114ca2e8813e6b1efce6...</td>\n",
       "      <td>PUBLIC SECTOR</td>\n",
       "      <td>Government</td>\n",
       "      <td>GEO_2</td>\n",
       "      <td>5.828</td>\n",
       "      <td>0</td>\n",
       "    </tr>\n",
       "    <tr>\n",
       "      <th>9</th>\n",
       "      <td>13f0d44a584db3ee84955df57f0fcdf991801283004fac...</td>\n",
       "      <td>PUBLIC SECTOR</td>\n",
       "      <td>Health Care</td>\n",
       "      <td>GEO_1</td>\n",
       "      <td>5.825</td>\n",
       "      <td>0</td>\n",
       "    </tr>\n",
       "  </tbody>\n",
       "</table>\n",
       "</div>"
      ],
      "text/plain": [
       "                                       Customer_Hash Market_Segment  \\\n",
       "0  efb935165fc46f423333ae2870618f556342abd88177f9...     COMMERCIAL   \n",
       "1  8d129893930060bef20fadbb329da0897450543127a951...  PUBLIC SECTOR   \n",
       "2  d6f10455bddf55b3729d28af1aa68ac0b410fcb553c315...     ENTERPRISE   \n",
       "3  4091eb3af1c5a7133af357ec2cad02f303e22330481a65...  PUBLIC SECTOR   \n",
       "4  82a31080419aa3bab339cc7a0f49af038e1c5e151d541b...     ENTERPRISE   \n",
       "5  7df73f5b869e58faf85a580f0ec348a404a1e40599aa71...  PUBLIC SECTOR   \n",
       "6  ad8942229c32e8b4fd8c05e7fcbd129b9e558a0acbec48...  PUBLIC SECTOR   \n",
       "7  3a2c7bd9abf2cf37080e945b7a9071542249cf0e09b81a...  PUBLIC SECTOR   \n",
       "8  19d0c1b645c00839906cb12357114ca2e8813e6b1efce6...  PUBLIC SECTOR   \n",
       "9  13f0d44a584db3ee84955df57f0fcdf991801283004fac...  PUBLIC SECTOR   \n",
       "\n",
       "             Vertical_Market Region  Net_Price  buys_both  \n",
       "0      Professional Services  GEO_1      5.850          1  \n",
       "1                 Government  GEO_1      5.847          0  \n",
       "2                 Government  GEO_1      5.846          0  \n",
       "3         Financial Services  GEO_1      5.842          1  \n",
       "4      Professional Services  GEO_1      5.841          0  \n",
       "5                    Unknown  GEO_1      5.841          0  \n",
       "6  Education- Public/Private  GEO_2      5.839          0  \n",
       "7  Education- Public/Private  GEO_2      5.830          0  \n",
       "8                 Government  GEO_2      5.828          0  \n",
       "9                Health Care  GEO_1      5.825          0  "
      ]
     },
     "execution_count": 74,
     "metadata": {},
     "output_type": "execute_result"
    }
   ],
   "source": [
    "df_merge.shape\n",
    "df_merge.head(10)"
   ]
  },
  {
   "cell_type": "code",
   "execution_count": 75,
   "metadata": {},
   "outputs": [],
   "source": [
    "#Now it is safe to get rid off the Customer_Hash Column as it is irrelevant for the modeling phase\n",
    "\n",
    "df_final = df_merge.drop(['Customer_Hash'],axis=1)"
   ]
  },
  {
   "cell_type": "markdown",
   "metadata": {},
   "source": [
    "## Results\n",
    "After  parsing, enconding, obfuscating, cleaning ,removing incesary info, removing outliers, consolidating, reordering, and managing inbalance, we have a Data Set that is ready for the modeling phase.\n",
    "The final Data set \"Bookings_for_Modeling.csv\" is included in this repository."
   ]
  },
  {
   "cell_type": "code",
   "execution_count": 76,
   "metadata": {},
   "outputs": [
    {
     "name": "stdout",
     "output_type": "stream",
     "text": [
      "<class 'pandas.core.frame.DataFrame'>\n",
      "RangeIndex: 16495 entries, 0 to 16494\n",
      "Data columns (total 5 columns):\n",
      " #   Column           Non-Null Count  Dtype  \n",
      "---  ------           --------------  -----  \n",
      " 0   Market_Segment   16495 non-null  object \n",
      " 1   Vertical_Market  16495 non-null  object \n",
      " 2   Region           16495 non-null  object \n",
      " 3   Net_Price        16495 non-null  float64\n",
      " 4   buys_both        16495 non-null  int64  \n",
      "dtypes: float64(1), int64(1), object(3)\n",
      "memory usage: 644.5+ KB\n"
     ]
    }
   ],
   "source": [
    "#look at new dataframe\n",
    "df_final.info()\n",
    "df_final.to_csv('./Data/Bookings_for_Modeling.csv')"
   ]
  },
  {
   "cell_type": "code",
   "execution_count": 77,
   "metadata": {},
   "outputs": [
    {
     "data": {
      "text/html": [
       "<div>\n",
       "<style scoped>\n",
       "    .dataframe tbody tr th:only-of-type {\n",
       "        vertical-align: middle;\n",
       "    }\n",
       "\n",
       "    .dataframe tbody tr th {\n",
       "        vertical-align: top;\n",
       "    }\n",
       "\n",
       "    .dataframe thead th {\n",
       "        text-align: right;\n",
       "    }\n",
       "</style>\n",
       "<table border=\"1\" class=\"dataframe\">\n",
       "  <thead>\n",
       "    <tr style=\"text-align: right;\">\n",
       "      <th></th>\n",
       "      <th>Net_Price</th>\n",
       "      <th>buys_both</th>\n",
       "    </tr>\n",
       "  </thead>\n",
       "  <tbody>\n",
       "    <tr>\n",
       "      <th>count</th>\n",
       "      <td>16495.000</td>\n",
       "      <td>16495.000</td>\n",
       "    </tr>\n",
       "    <tr>\n",
       "      <th>mean</th>\n",
       "      <td>3.519</td>\n",
       "      <td>0.367</td>\n",
       "    </tr>\n",
       "    <tr>\n",
       "      <th>std</th>\n",
       "      <td>0.863</td>\n",
       "      <td>0.482</td>\n",
       "    </tr>\n",
       "    <tr>\n",
       "      <th>min</th>\n",
       "      <td>1.157</td>\n",
       "      <td>0.000</td>\n",
       "    </tr>\n",
       "    <tr>\n",
       "      <th>25%</th>\n",
       "      <td>2.965</td>\n",
       "      <td>0.000</td>\n",
       "    </tr>\n",
       "    <tr>\n",
       "      <th>50%</th>\n",
       "      <td>3.549</td>\n",
       "      <td>0.000</td>\n",
       "    </tr>\n",
       "    <tr>\n",
       "      <th>75%</th>\n",
       "      <td>4.099</td>\n",
       "      <td>1.000</td>\n",
       "    </tr>\n",
       "    <tr>\n",
       "      <th>max</th>\n",
       "      <td>5.850</td>\n",
       "      <td>1.000</td>\n",
       "    </tr>\n",
       "  </tbody>\n",
       "</table>\n",
       "</div>"
      ],
      "text/plain": [
       "       Net_Price  buys_both\n",
       "count  16495.000  16495.000\n",
       "mean       3.519      0.367\n",
       "std        0.863      0.482\n",
       "min        1.157      0.000\n",
       "25%        2.965      0.000\n",
       "50%        3.549      0.000\n",
       "75%        4.099      1.000\n",
       "max        5.850      1.000"
      ]
     },
     "execution_count": 77,
     "metadata": {},
     "output_type": "execute_result"
    }
   ],
   "source": [
    "#another summary\n",
    "df_final.describe()"
   ]
  },
  {
   "cell_type": "code",
   "execution_count": 78,
   "metadata": {
    "scrolled": true
   },
   "outputs": [
    {
     "data": {
      "image/png": "[encoded data removed]",
      "text/plain": [
       "<Figure size 500x500 with 1 Axes>"
      ]
     },
     "metadata": {},
     "output_type": "display_data"
    }
   ],
   "source": [
    "sns.displot(df_final['Net_Price']).set(title='Net Price Distribution', xlabel='Net Price', ylabel='Sales Orders');"
   ]
  },
  {
   "cell_type": "code",
   "execution_count": 79,
   "metadata": {},
   "outputs": [
    {
     "data": {
      "text/plain": [
       "buys_both\n",
       "0    10444\n",
       "1     6051\n",
       "Name: count, dtype: int64"
      ]
     },
     "execution_count": 79,
     "metadata": {},
     "output_type": "execute_result"
    },
    {
     "data": {
      "text/plain": [
       "buys_both\n",
       "0   0.633\n",
       "1   0.367\n",
       "Name: proportion, dtype: float64"
      ]
     },
     "execution_count": 79,
     "metadata": {},
     "output_type": "execute_result"
    }
   ],
   "source": [
    "df_final['buys_both'].value_counts(normalize=False)\n",
    "df_final['buys_both'].value_counts(normalize=True)"
   ]
  },
  {
   "cell_type": "code",
   "execution_count": 80,
   "metadata": {},
   "outputs": [
    {
     "data": {
      "text/html": [
       "<div>\n",
       "<style scoped>\n",
       "    .dataframe tbody tr th:only-of-type {\n",
       "        vertical-align: middle;\n",
       "    }\n",
       "\n",
       "    .dataframe tbody tr th {\n",
       "        vertical-align: top;\n",
       "    }\n",
       "\n",
       "    .dataframe thead th {\n",
       "        text-align: right;\n",
       "    }\n",
       "</style>\n",
       "<table border=\"1\" class=\"dataframe\">\n",
       "  <thead>\n",
       "    <tr style=\"text-align: right;\">\n",
       "      <th></th>\n",
       "      <th>Net_Price</th>\n",
       "      <th>buys_both</th>\n",
       "    </tr>\n",
       "  </thead>\n",
       "  <tbody>\n",
       "    <tr>\n",
       "      <th>count</th>\n",
       "      <td>16495.000</td>\n",
       "      <td>16495.000</td>\n",
       "    </tr>\n",
       "    <tr>\n",
       "      <th>mean</th>\n",
       "      <td>3.519</td>\n",
       "      <td>0.367</td>\n",
       "    </tr>\n",
       "    <tr>\n",
       "      <th>std</th>\n",
       "      <td>0.863</td>\n",
       "      <td>0.482</td>\n",
       "    </tr>\n",
       "    <tr>\n",
       "      <th>min</th>\n",
       "      <td>1.157</td>\n",
       "      <td>0.000</td>\n",
       "    </tr>\n",
       "    <tr>\n",
       "      <th>25%</th>\n",
       "      <td>2.965</td>\n",
       "      <td>0.000</td>\n",
       "    </tr>\n",
       "    <tr>\n",
       "      <th>50%</th>\n",
       "      <td>3.549</td>\n",
       "      <td>0.000</td>\n",
       "    </tr>\n",
       "    <tr>\n",
       "      <th>75%</th>\n",
       "      <td>4.099</td>\n",
       "      <td>1.000</td>\n",
       "    </tr>\n",
       "    <tr>\n",
       "      <th>max</th>\n",
       "      <td>5.850</td>\n",
       "      <td>1.000</td>\n",
       "    </tr>\n",
       "  </tbody>\n",
       "</table>\n",
       "</div>"
      ],
      "text/plain": [
       "       Net_Price  buys_both\n",
       "count  16495.000  16495.000\n",
       "mean       3.519      0.367\n",
       "std        0.863      0.482\n",
       "min        1.157      0.000\n",
       "25%        2.965      0.000\n",
       "50%        3.549      0.000\n",
       "75%        4.099      1.000\n",
       "max        5.850      1.000"
      ]
     },
     "execution_count": 80,
     "metadata": {},
     "output_type": "execute_result"
    }
   ],
   "source": [
    "df_final.describe()"
   ]
  },
  {
   "cell_type": "markdown",
   "metadata": {},
   "source": [
    "## Next Steps"
   ]
  },
  {
   "cell_type": "markdown",
   "metadata": {},
   "source": [
    "**Our Target Variable (Buys_Both) is still inbalanced , but the almost 60/40 proportion still can be used for the modeling with an acceptable success rate."
   ]
  },
  {
   "cell_type": "markdown",
   "metadata": {},
   "source": [
    "** we will review if the Net_Price has any impact in the modeling, otherwise we will drop it."
   ]
  },
  {
   "cell_type": "markdown",
   "metadata": {},
   "source": [
    "** we will look for use additional modeling techniques to reduce the impact of the inbalacing"
   ]
  },
  {
   "cell_type": "markdown",
   "metadata": {},
   "source": [
    "** the procuremet sequence´s impact is something that we could review as posible additional enginieered feature (Time series)"
   ]
  }
 ],
 "metadata": {
  "kernelspec": {
   "display_name": "Python 3 (ipykernel)",
   "language": "python",
   "name": "python3"
  },
  "language_info": {
   "codemirror_mode": {
    "name": "ipython",
    "version": 3
   },
   "file_extension": ".py",
   "mimetype": "text/x-python",
   "name": "python",
   "nbconvert_exporter": "python",
   "pygments_lexer": "ipython3",
   "version": "3.10.7"
  }
 },
 "nbformat": 4,
 "nbformat_minor": 4
}
